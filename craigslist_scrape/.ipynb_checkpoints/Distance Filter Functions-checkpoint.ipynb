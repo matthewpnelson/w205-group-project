{
 "cells": [
  {
   "cell_type": "markdown",
   "metadata": {},
   "source": [
    "# INPUTS"
   ]
  },
  {
   "cell_type": "markdown",
   "metadata": {},
   "source": [
    "Example extractable Tables stored in Hive for distance based criteria"
   ]
  },
  {
   "cell_type": "code",
   "execution_count": 59,
   "metadata": {
    "collapsed": true
   },
   "outputs": [],
   "source": [
    "bike_parking = {'location 1': (37.7606289177, -122.410647009), \n",
    "                'location 2': (37.7855355791102, -122.411302813025),\n",
    "                'location 3': (37.7759676911831, -122.441396661871),\n",
    "                'location 4': (37.7518243814, -122.426627114),\n",
    "                'location 5': (37.75182438, -122.4266271)}\n",
    "\n",
    "bike_share =   {'location 1': (37.7606289177, -122.410647009), \n",
    "                'location 2': (37.7855355791102, -122.411302813025),\n",
    "                'location 3': (37.7759676911831, -122.441396661871),\n",
    "                'location 4': (37.7518243814, -122.426627114),\n",
    "                'location 5': (37.75182438, -122.4266271)}\n",
    "\n",
    "off_street_parking =      {'location 1': [\"Private\", 13, (37.7606289177, -122.410647009)], \n",
    "                'location 2': [\"Private\", 15, (37.7855355791102, -122.411302813025)],\n",
    "                'location 3': [\"Public\", 18, (37.7759676911831, -122.441396661871)],\n",
    "                'location 4': [\"Private\", 27, (37.7518243814, -122.426627114)],\n",
    "                'location 5': [\"Private\", 60, (37.75182438, -122.4266271)]}\n",
    "\n",
    "SFPD =      {'location 1': (37.7606289177, -122.410647009), \n",
    "                'location 2': (37.7855355791102, -122.411302813025),\n",
    "                'location 3': (37.7759676911831, -122.441396661871),\n",
    "                'location 4': (37.7518243814, -122.426627114),\n",
    "                'location 5': (37.75182438, -122.4266271)}\n",
    "\n",
    "trees =      {'location 1': (37.7606289177, -122.410647009), \n",
    "                'location 2': (37.7855355791102, -122.411302813025),\n",
    "                'location 3': (37.7759676911831, -122.441396661871),\n",
    "                'location 4': (37.7518243814, -122.426627114),\n",
    "                'location 5': (37.75182438, -122.4266271)}"
   ]
  },
  {
   "cell_type": "markdown",
   "metadata": {},
   "source": [
    "Example User Input"
   ]
  },
  {
   "cell_type": "code",
   "execution_count": 2,
   "metadata": {
    "collapsed": true
   },
   "outputs": [],
   "source": [
    "distance_to_bike_parking = \"Short\"      # Short, Medium, Long\n",
    "distance_to_bike_share = \"Short\"        # Short, Medium, Long\n",
    "density_of_parking_spots_500m = \"Low\"   # Low, Medium, High Density within 500m\n",
    "density_of_SFPD_Incidents = \"Low\"       # Low, Medium, High Density in 2016\n",
    "density_of_trees_100m = \"High\"          # Low, Medium, High Density within 500m"
   ]
  },
  {
   "cell_type": "markdown",
   "metadata": {},
   "source": [
    "Example Geotag"
   ]
  },
  {
   "cell_type": "code",
   "execution_count": 3,
   "metadata": {
    "collapsed": true
   },
   "outputs": [],
   "source": [
    "geotag = (37.790788, -122.419036)"
   ]
  },
  {
   "cell_type": "markdown",
   "metadata": {},
   "source": [
    "# Bike Parking Function (Short, Medium, Long Distance Style Evaluation)"
   ]
  },
  {
   "cell_type": "code",
   "execution_count": 38,
   "metadata": {
    "collapsed": false
   },
   "outputs": [],
   "source": [
    "# Adapted from http://www.codecodex.com/wiki/Calculate_distance_between_two_points_on_a_globe#Python\n",
    "import math\n",
    "def points2distance(start,  end):  \n",
    "    \"\"\" \n",
    "    Calculate distance (in kilometers) between two points given as (long, latt) pairs \n",
    "    based on Haversine formula (http://en.wikipedia.org/wiki/Haversine_formula). \n",
    "    \"\"\"  \n",
    "    end_latt = math.radians(end[0])\n",
    "    end_long = math.radians(end[1])\n",
    "    start_latt = math.radians(start[0])\n",
    "    start_long = math.radians(start[1])\n",
    "        \n",
    "    d_latt = end_latt - start_latt  \n",
    "    d_long = end_long - start_long  \n",
    "    a = math.sin(d_latt/2)**2 + math.cos(start_latt) * math.cos(end_latt) * math.sin(d_long/2)**2  \n",
    "    c = 2 * math.asin(math.sqrt(a))  \n",
    "    return 6371 * c  "
   ]
  },
  {
   "cell_type": "code",
   "execution_count": 41,
   "metadata": {
    "collapsed": false
   },
   "outputs": [],
   "source": [
    "def close_to_bike_parking(geotag, bike_parking_locations):\n",
    "\n",
    "    min_dist = None\n",
    "    near_bike = False\n",
    "    bike_dist = \"N/A\"\n",
    "    bike = \"\"\n",
    "    MAX_BIKE_DIST = 200 # kilometers\n",
    "\n",
    "    for spot, coords in bike_parking_locations.items():\n",
    "        dist = points2distance(coords,geotag)\n",
    "        if (min_dist is None or dist < min_dist) and dist < MAX_BIKE_DIST:\n",
    "            bike = spot\n",
    "            near_bike = True\n",
    "            min_dist = dist\n",
    "    return near_bike, bike, min_dist\n",
    "        \n",
    "        \n",
    "        \n",
    "    \n",
    "    "
   ]
  },
  {
   "cell_type": "code",
   "execution_count": 42,
   "metadata": {
    "collapsed": false
   },
   "outputs": [
    {
     "data": {
      "text/plain": [
       "(True, 'location 2', 0.8960481671803393)"
      ]
     },
     "execution_count": 42,
     "metadata": {},
     "output_type": "execute_result"
    }
   ],
   "source": [
    "# Test\n",
    "close_to_bike_parking(geotag,bike_parking)"
   ]
  },
  {
   "cell_type": "markdown",
   "metadata": {},
   "source": [
    "# Vehicle Parking Function (Low, Medium, High Density Evaluation)"
   ]
  },
  {
   "cell_type": "code",
   "execution_count": 74,
   "metadata": {
    "collapsed": false
   },
   "outputs": [],
   "source": [
    "def parking_density(geotag, parking_locations):\n",
    "\n",
    "    public_parking_count = 0\n",
    "    private_parking_count = 0\n",
    "    MAX_PARK_DIST = 3.5 # kilometers\n",
    "    low_density_threshold = 20\n",
    "    med_density_threshold = 100\n",
    "    \n",
    "    # Loop through Parking Locations and sum total available spots (within Max Distance of geotag) for both Private/Public\n",
    "    for name, info in parking.items():\n",
    "        dist = points2distance(info[2],geotag)\n",
    "        if dist < MAX_PARK_DIST and info[0] == \"Public\":\n",
    "            public_parking_count += info[1] # Assuming the Parking lot info has # of spots in the raw data\n",
    "        elif dist < MAX_PARK_DIST and info[0] == \"Private\":\n",
    "            private_parking_count += info[1]\n",
    "        else:\n",
    "            continue\n",
    "    \n",
    "    \n",
    "    # Characterize Public Parking Density\n",
    "    public_parking_density = None\n",
    "    if public_parking_count > 0 and public_parking_count <= low_density_threshold:\n",
    "        public_parking_density = \"Low Public Parking Density\"\n",
    "    elif public_parking_count > low_density_threshold and public_parking_count <= med_density_threshold:\n",
    "        public_parking_density = \"Medium Public Parking Density\"\n",
    "    elif public_parking_count > med_density_threshold:\n",
    "        public_parking_density = \"High Public Parking Density\"\n",
    "    \n",
    "    # Characterize Private Parking Density\n",
    "    private_parking_density = None\n",
    "    if private_parking_count > 0 and private_parking_count <= low_density_threshold:\n",
    "        private_parking_density = \"Low Private Parking Density\"\n",
    "    elif private_parking_count > low_density_threshold and private_parking_count <= med_density_threshold:\n",
    "        private_parking_density = \"Medium Private Parking Density\"\n",
    "    elif private_parking_count > med_density_threshold:\n",
    "        private_parking_density = \"High Private Parking Density\"\n",
    "        \n",
    "        \n",
    "    return (public_parking_density, public_parking_count, private_parking_density, private_parking_count)"
   ]
  },
  {
   "cell_type": "code",
   "execution_count": 73,
   "metadata": {
    "collapsed": false
   },
   "outputs": [
    {
     "data": {
      "text/plain": [
       "(('Low Public Parking Density', 18), ('Medium Private Parking Density', 28))"
      ]
     },
     "execution_count": 73,
     "metadata": {},
     "output_type": "execute_result"
    }
   ],
   "source": [
    "# Test\n",
    "parking_density(geotag,off_street_parking)"
   ]
  }
 ],
 "metadata": {
  "kernelspec": {
   "display_name": "Python 3",
   "language": "python",
   "name": "python3"
  },
  "language_info": {
   "codemirror_mode": {
    "name": "ipython",
    "version": 3
   },
   "file_extension": ".py",
   "mimetype": "text/x-python",
   "name": "python",
   "nbconvert_exporter": "python",
   "pygments_lexer": "ipython3",
   "version": "3.5.1"
  }
 },
 "nbformat": 4,
 "nbformat_minor": 0
}
