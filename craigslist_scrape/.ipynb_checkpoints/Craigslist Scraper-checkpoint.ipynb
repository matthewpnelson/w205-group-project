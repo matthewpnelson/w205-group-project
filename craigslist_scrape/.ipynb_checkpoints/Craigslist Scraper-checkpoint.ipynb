{
 "cells": [
  {
   "cell_type": "markdown",
   "metadata": {},
   "source": [
    "# Craigslist Scraping Operationalization"
   ]
  },
  {
   "cell_type": "markdown",
   "metadata": {},
   "source": [
    "## Raw Data Examples"
   ]
  },
  {
   "cell_type": "markdown",
   "metadata": {},
   "source": [
    "SQL Query Results by Foreign Key 'Zip Code' for: \n",
    "\n",
    "1. Count of Businesses in Same Zip Code\n",
    "2. Count of Eviction Notices in same Zip Code ignore\n",
    "3. Count of Different Types of Schools in same Zip Code\n",
    "4. Avg Cost of Home Prices\n"
   ]
  },
  {
   "cell_type": "code",
   "execution_count": 1,
   "metadata": {
    "collapsed": true
   },
   "outputs": [],
   "source": [
    "static_evaluations_by_zip = {'businesses': {'94102': 1, '11111': 5, '94104': 10, '94105': 10 }, \n",
    "             'evictions': {'94102': 7, '11111': 4, '94104': 10, '94105': 9 },\n",
    "             'schools_k9': {'94102': 10, '11111': 5, '94104': 2, '94105': 8 },\n",
    "             'schools_hs': {'94102': 9, '11111': 6, '94104': 6, '94105': 10 },\n",
    "             'home_prices': {'94102': 8, '11111': 4, '94104': 1, '94105': 4 }}"
   ]
  },
  {
   "cell_type": "markdown",
   "metadata": {},
   "source": [
    "Raw Hive Table for each of: \n",
    "\n",
    "1. Bicycle Parking Locations\n",
    "2. Bicycle Share Locations\n",
    "3. Parking Lots / Spaces\n",
    "4. SFPD Incidents 2016\n",
    "5. Trees\n",
    "\n",
    "with GeoTag Foreign Key. "
   ]
  },
  {
   "cell_type": "code",
   "execution_count": 2,
   "metadata": {
    "collapsed": false
   },
   "outputs": [],
   "source": [
    "bike_parking = {'location 1': (37.7606289177, -122.410647009), \n",
    "                'location 2': (37.7855355791102, -122.411302813025),\n",
    "                'location 3': (37.7759676911831, -122.441396661871),\n",
    "                'location 4': (37.7518243814, -122.426627114),\n",
    "                'location 5': (37.75182438, -122.4266271)}\n",
    "\n",
    "bike_share =   {'location 1': (37.7606289177, -122.410647009), \n",
    "                'location 2': (37.7855355791102, -122.411302813025),\n",
    "                'location 3': (37.7759676911831, -122.441396661871),\n",
    "                'location 4': (37.7518243814, -122.426627114),\n",
    "                'location 5': (37.75182438, -122.4266271)}\n",
    "\n",
    "off_street_parking =      {'location 1': [\"Private\", 13, (37.7606289177, -122.410647009)], \n",
    "                'location 2': [\"Private\", 15, (37.7855355791102, -122.411302813025)],\n",
    "                'location 3': [\"Public\", 18, (37.7759676911831, -122.441396661871)],\n",
    "                'location 4': [\"Private\", 27, (37.7518243814, -122.426627114)],\n",
    "                'location 5': [\"Private\", 60, (37.75182438, -122.4266271)]}\n",
    "\n",
    "SFPD =      {'location 1': (37.7606289177, -122.410647009), \n",
    "                'location 2': (37.7855355791102, -122.411302813025),\n",
    "                'location 3': (37.7759676911831, -122.441396661871),\n",
    "                'location 4': (37.7518243814, -122.426627114),\n",
    "                'location 5': (37.75182438, -122.4266271)}\n",
    "\n",
    "trees =      {'location 1': (37.7606289177, -122.410647009), \n",
    "                'location 2': (37.7855355791102, -122.411302813025),\n",
    "                'location 3': (37.7759676911831, -122.441396661871),\n",
    "                'location 4': (37.7518243814, -122.426627114),\n",
    "                'location 5': (37.75182438, -122.4266271)}"
   ]
  },
  {
   "cell_type": "markdown",
   "metadata": {},
   "source": [
    "List of Zip Codes (delete?)"
   ]
  },
  {
   "cell_type": "code",
   "execution_count": 4,
   "metadata": {
    "collapsed": true
   },
   "outputs": [],
   "source": [
    "zipcodes = [94102,94103,94104,94105,94107,94108,94109,94110,94111,94112,94114,94115,94116,94117,94118,94119,94120,\n",
    "            94121,94122,94123,94124,94125,94126,94127,94128,94129,94130,94131,94132,94133,94134,94137,94139,94140,\n",
    "            94141,94142,94143,94144,94145,94146,94147,94151,94158,94159,94160,94161,94163,94164,94172,94177,94188]"
   ]
  },
  {
   "cell_type": "markdown",
   "metadata": {},
   "source": [
    "### Sample Inputs from User"
   ]
  },
  {
   "cell_type": "code",
   "execution_count": 5,
   "metadata": {
    "collapsed": true
   },
   "outputs": [],
   "source": [
    "max_rent = 4000\n",
    "min_rent = 1000\n",
    "category = 'apa'\n",
    "min_rank_businesses = None\n",
    "min_rank_evictions = 1\n",
    "min_rank_schools_k9 = 8\n",
    "min_rank_schools_hs = None\n",
    "min_rank_home_prices = 5\n",
    "close_to_bike_parking = \"Yes\"       # Care about close bike parking, Yes or No\n",
    "distance_to_bike_share = \"Short\"        # Short, Medium, Long\n",
    "density_of_offstreet_parking = \"Medium\"   # Low, Medium, High Density within Xkm (Select Low if you don't care)\n",
    "density_of_SFPD_Incidents = \"Low\"       # Low, Medium, High Density in 2016\n",
    "density_of_trees_100m = \"High\"          # Low, Medium, High Density within 500m"
   ]
  },
  {
   "cell_type": "markdown",
   "metadata": {},
   "source": [
    "### Sample Raw Outputs from Craigslist Scraper"
   ]
  },
  {
   "cell_type": "code",
   "execution_count": 6,
   "metadata": {
    "collapsed": true
   },
   "outputs": [],
   "source": [
    "output = {'id': '6060895324', 'has_map': True, 'price': '$1600', 'url': 'http://sfbay.craigslist.org/sfc/apa/6060895324.html',\n",
    "          'name': 'Furnished Room', 'has_image': True, 'datetime': '2017-03-26 09:33', 'where': 'nob hill', 'geotag': (37.790788, -122.419036)}\n"
   ]
  },
  {
   "cell_type": "markdown",
   "metadata": {},
   "source": [
    "# Scraper Class w/ Filters"
   ]
  },
  {
   "cell_type": "code",
   "execution_count": 7,
   "metadata": {
    "collapsed": false
   },
   "outputs": [],
   "source": [
    "def scrape_craigslist(max_rent= None, min_rent = None, cat = category):\n",
    "\n",
    "    from craigslist import CraigslistHousing\n",
    "    import filtering_functions\n",
    "    import zip_lookup\n",
    "    import neighbourhood_lookup\n",
    "    import math\n",
    "    from IPython.display import Markdown, display\n",
    "    def printmd(string):\n",
    "        display(Markdown(string))\n",
    "    \n",
    "\n",
    "    cl = CraigslistHousing(site='sfbay', area='sfc', category= cat,\n",
    "                             filters={'max_price': max_rent, 'min_price': min_rent})\n",
    "\n",
    "    results = cl.get_results(sort_by='newest', geotagged=True, limit=100) #do we need to set a reasonable limit?\n",
    "    tentative_rental = []\n",
    "    valid_rentals = []\n",
    "    for result in results:\n",
    "        print(\"Evaluating: \", result['name'], result['url'])\n",
    "        ################################################################################################\n",
    "        ### INITIALIZE RESULT\n",
    "        \n",
    "        # assign geotag if it is provided in the rental ad\n",
    "        if result['geotag'] is not None:\n",
    "            geotag = result['geotag']\n",
    "        else:\n",
    "            continue #skip for now because there is no geotag    \n",
    "        \n",
    "        zipcode = zip_lookup.zip_lookup_by_geotag(geotag)\n",
    "        tentative_rental.append(result)\n",
    "        \n",
    "        ### Get Approximate Neighbourhood by Geotag\n",
    "        if result[\"where\"] != None:\n",
    "            result[\"area\"] = result[\"where\"]\n",
    "        else:\n",
    "            result[\"area\"] = neighbourhood_lookup.neighbourhood_lookup(geotag)\n",
    "        \n",
    "        \n",
    "        ################################################################################################\n",
    "        ### APPLY FILTERS\n",
    "        \n",
    "        \n",
    "        #-----------------------------------------------------------------------------------------------\n",
    "        ## ZIPCODE BASED FILTERS\n",
    "        #-----------------------------------------------------------------------------------------------\n",
    "        \n",
    "        # # OF BUSINESSES\n",
    "        if min_rank_businesses == None:\n",
    "            pass\n",
    "        else:\n",
    "            if zipcode not in filtering_functions.check_businesses(min_rank_businesses, static_evaluations_by_zip):\n",
    "                continue #doesn't meet user criteria, go on to next result\n",
    "        \n",
    "        # NEARBY SCHOOLS\n",
    "        if min_rank_evictions == None:\n",
    "            pass\n",
    "        else:\n",
    "            if zipcode not in filtering_functions.check_evictions(min_rank_evictions, static_evaluations_by_zip):\n",
    "                continue #doesn't meet user criteria, go on to next result\n",
    "        \n",
    "        #-----------------------------------------------------------------------------------------------\n",
    "        ## DISTANCE BASED FILTERS\n",
    "        #-----------------------------------------------------------------------------------------------\n",
    "        \n",
    "        #----------------------------------\n",
    "        ## DISTANCE TO X FILTERS\n",
    "        #----------------------------------\n",
    "        \n",
    "        # BIKE PARKING (is bike parking within 20km of the rental? (huge window until we get actual locations loaded))\n",
    "        if close_to_bike_parking == \"No\":\n",
    "            pass #skip this filter, user doesn't care\n",
    "        else:\n",
    "            BP_close, BP_location, BP_distance = filtering_functions.close_to_bike_parking(geotag, bike_parking)\n",
    "            if BP_close == False:\n",
    "                continue #doesn't meet user criteria, go on to next result\n",
    "            else:\n",
    "                result[\"BP_close\"] = BP_close\n",
    "                result[\"BP_location\"] = BP_location\n",
    "                result[\"BP_distance\"] = BP_distance\n",
    "        \n",
    "        \n",
    "        #----------------------------------\n",
    "        ## DENSITY STYLE FILTERS\n",
    "        #----------------------------------\n",
    "        \n",
    "        # VEHICLE PARKING DENSITY (Initial Parking window set @ 20km, huge window until we get actual locations loaded)\n",
    "        if density_of_offstreet_parking == \"Low\":\n",
    "            pass #skip this filter, user doesn't care\n",
    "        else:\n",
    "            Public_Parking_Density, Public_Parking_Spots, Private_Parking_Density, \\\n",
    "                Private_Parking_Spots = filtering_functions.parking_density(geotag,off_street_parking)\n",
    "            if (Public_Parking_Density == \"High Public Parking Density\" or Private_Parking_Density == \"High Private Parking Density\") and density_of_offstreet_parking == \"High\":\n",
    "                result[\"Public_Parking_Density\"], result[\"Public_Parking_Spots\"], result[\"Private_Parking_Density\"], \\\n",
    "                result[\"Private_Parking_Spots\"] = filtering_functions.parking_density(geotag,off_street_parking)\n",
    "            elif (Public_Parking_Density in (\"High Public Parking Density\",\"Medium Public Parking Density\") \\\n",
    "                or Private_Parking_Density in (\"High Private Parking Density\",\"Medium Private Parking Density\")) \\\n",
    "                and density_of_offstreet_parking == \"Medium\":\n",
    "                result[\"Public_Parking_Density\"], result[\"Public_Parking_Spots\"], result[\"Private_Parking_Density\"], \\\n",
    "                result[\"Private_Parking_Spots\"] = filtering_functions.parking_density(geotag,off_street_parking)\n",
    "            else:\n",
    "                continue #doesn't meet user criteria, go on to next result\n",
    "        \n",
    "        \n",
    "        \n",
    "\n",
    "        ################################################################################################\n",
    "        # Made it to the end of the filters intact? Rental is Valid for this User's Query!\n",
    "        valid_rentals.append(result)\n",
    "        tentative_rental = [] # reset the tentative rental, continue loop\n",
    "        \n",
    "        ################################################################################################\n",
    "        ### DISPLAY VALID RESULTS\n",
    "        printmd('**-------------------VALID RESULT------------------**')\n",
    "        print(\"Area: \", result[\"area\"], \"\\n\",\n",
    "              \"Price: \", result[\"price\"], \"\\n\",\n",
    "              \"Listing Name: \", result[\"name\"], \"\\n\",\n",
    "              \"URL: \", result[\"url\"], \"\\n\",\n",
    "              \"Bike Parking (Close?, Location Name, Distance (km)): \",result[\"BP_close\"], result[\"BP_location\"], result[\"BP_distance\"], \"\\n\",\n",
    "              \"Local Public Off-Street Parking Density, # of Spots: \", result[\"Public_Parking_Density\"], result[\"Public_Parking_Spots\"], \"\\n\",\n",
    "              \"Local Private Off-Street Parking Density, # of Spots: \",result[\"Private_Parking_Density\"], result[\"Private_Parking_Spots\"])\n",
    "        printmd('**-------------------------------------------------**')\n",
    "        \n",
    "        \n",
    "    return valid_rentals\n"
   ]
  },
  {
   "cell_type": "code",
   "execution_count": 8,
   "metadata": {
    "collapsed": false
   },
   "outputs": [
    {
     "name": "stdout",
     "output_type": "stream",
     "text": [
      "Evaluating:  Relax and Rejuvenate in Your New Home!!! Ready For Immediate Move-In.. http://sfbay.craigslist.org/sfc/apa/6079805728.html\n",
      "Evaluating:  Temporary House Rental $3,500: July 1st- Dec. 31st, 2017 http://sfbay.craigslist.org/sfc/apa/6070396493.html\n",
      "Evaluating:  $3100 SPACIOUS Lower Haight Victorian 1 BR ***OPEN SUN 3:30-4*** http://sfbay.craigslist.org/sfc/apa/6068242445.html\n"
     ]
    },
    {
     "data": {
      "text/markdown": [
       "**-------------------VALID RESULT------------------**"
      ],
      "text/plain": [
       "<IPython.core.display.Markdown object>"
      ]
     },
     "metadata": {},
     "output_type": "display_data"
    },
    {
     "name": "stdout",
     "output_type": "stream",
     "text": [
      "Area:  lower haight \n",
      " Price:  $3100 \n",
      " Listing Name:  $3100 SPACIOUS Lower Haight Victorian 1 BR ***OPEN SUN 3:30-4*** \n",
      " URL:  http://sfbay.craigslist.org/sfc/apa/6068242445.html \n",
      " Bike Parking (Close?, Location Name, Distance (km)):  True location 3 1.0449865838479797 \n",
      " Local Public Off-Street Parking Density, # of Spots:  Low Public Parking Density 18 \n",
      " Local Private Off-Street Parking Density, # of Spots:  High Private Parking Density 115\n"
     ]
    },
    {
     "data": {
      "text/markdown": [
       "**-------------------------------------------------**"
      ],
      "text/plain": [
       "<IPython.core.display.Markdown object>"
      ]
     },
     "metadata": {},
     "output_type": "display_data"
    },
    {
     "name": "stdout",
     "output_type": "stream",
     "text": [
      "Evaluating:  Bright Corner Unit, available with parking and storage or without http://sfbay.craigslist.org/sfc/apa/6079800409.html\n",
      "Evaluating:  Bright & Sunny Studio with Hardwood Floors! COME SEE! http://sfbay.craigslist.org/sfc/apa/6079799376.html\n",
      "Evaluating:  REDUCED RENTS!! Luxurious New Studio With W/D! $99 Deposit! http://sfbay.craigslist.org/sfc/apa/6079798926.html\n",
      "Evaluating:  $3200 TOP FL Unique Bright GardenVW DW elev lndry***OPEN SUN 3:30-4*** http://sfbay.craigslist.org/sfc/apa/6068233264.html\n"
     ]
    },
    {
     "data": {
      "text/markdown": [
       "**-------------------VALID RESULT------------------**"
      ],
      "text/plain": [
       "<IPython.core.display.Markdown object>"
      ]
     },
     "metadata": {},
     "output_type": "display_data"
    },
    {
     "name": "stdout",
     "output_type": "stream",
     "text": [
      "Area:  hayes valley \n",
      " Price:  $3200 \n",
      " Listing Name:  $3200 TOP FL Unique Bright GardenVW DW elev lndry***OPEN SUN 3:30-4*** \n",
      " URL:  http://sfbay.craigslist.org/sfc/apa/6068233264.html \n",
      " Bike Parking (Close?, Location Name, Distance (km)):  True location 2 1.4251647084719548 \n",
      " Local Public Off-Street Parking Density, # of Spots:  Low Public Parking Density 18 \n",
      " Local Private Off-Street Parking Density, # of Spots:  High Private Parking Density 115\n"
     ]
    },
    {
     "data": {
      "text/markdown": [
       "**-------------------------------------------------**"
      ],
      "text/plain": [
       "<IPython.core.display.Markdown object>"
      ]
     },
     "metadata": {},
     "output_type": "display_data"
    },
    {
     "name": "stdout",
     "output_type": "stream",
     "text": [
      "Evaluating:  Charming One Bedroom!  - Washer Dryer In-Unit, Parking, Hardwood Floo http://sfbay.craigslist.org/sfc/apa/6076287732.html\n",
      "Evaluating:  Hurry!!! Beautiful New Studio Near CalTrain! Special $99 Deposit! http://sfbay.craigslist.org/sfc/apa/6079795207.html\n",
      "Evaluating:  Nice Large One Bed, One Bath Apt including Two Parking Spaces http://sfbay.craigslist.org/sfc/apa/6040115334.html\n",
      "Evaluating:  Charming One Bedroom!  - Washer Dryer In-Unit, Parking, Hardw http://sfbay.craigslist.org/sfc/apa/6067604537.html\n",
      "Evaluating:  Great Location - 1 Bed/1 Bath with Two Parking Spaces http://sfbay.craigslist.org/sfc/apa/6040110056.html\n",
      "Evaluating:  Prime location Top Floor with Harbor View!!! http://sfbay.craigslist.org/sfc/apa/6079777686.html\n",
      "Evaluating:  Stunning view One bdroom in a 3 bd/1.5 bath condo http://sfbay.craigslist.org/sfc/apa/6076772491.html\n",
      "Evaluating:  Fully Renovated Studio With Tons of Light http://sfbay.craigslist.org/sfc/apa/6073513847.html\n",
      "Evaluating:  Fully Renovated | Marble Mosaic Backsplash | Possible 2 Bedroom! http://sfbay.craigslist.org/sfc/apa/6075467265.html\n",
      "Evaluating:  All New Renovations! Awesome Location and Layout http://sfbay.craigslist.org/sfc/apa/6075487122.html\n",
      "Evaluating:  Modern Renovations | Ideal Layout | Great Walkability http://sfbay.craigslist.org/sfc/apa/6075490324.html\n",
      "Evaluating:  1bd+office/den - New york style loft, great SOMA location ~ J.Wavro http://sfbay.craigslist.org/sfc/apa/6079785007.html\n",
      "Evaluating:  Marina / Cow Hollow 2 WEEKS FREE 1bd 1 ba w/private deck Best Location http://sfbay.craigslist.org/sfc/apa/6076660201.html\n",
      "Evaluating:  **OPEN SAT 4/8: 3:00-3:30PM** 1 Bed 1 Bath in Classic Victorian http://sfbay.craigslist.org/sfc/apa/6045784006.html\n",
      "Evaluating:  Beautifully Renovated Top Floor with Harbor View!!! http://sfbay.craigslist.org/sfc/apa/6078301913.html\n",
      "Evaluating:  *PROMO Price* 2BD/2BA Apartment Pet-Friendly. Rent Control+Parking! http://sfbay.craigslist.org/sfc/apa/6069966435.html\n",
      "Evaluating:  $2200 Cozy private STUDIO lndry elev. HEART OF H.V.**OPEN SUN 3:30-4 http://sfbay.craigslist.org/sfc/apa/6068224545.html\n"
     ]
    },
    {
     "data": {
      "text/markdown": [
       "**-------------------VALID RESULT------------------**"
      ],
      "text/plain": [
       "<IPython.core.display.Markdown object>"
      ]
     },
     "metadata": {},
     "output_type": "display_data"
    },
    {
     "name": "stdout",
     "output_type": "stream",
     "text": [
      "Area:  hayes valley \n",
      " Price:  $2200 \n",
      " Listing Name:  $2200 Cozy private STUDIO lndry elev. HEART OF H.V.**OPEN SUN 3:30-4 \n",
      " URL:  http://sfbay.craigslist.org/sfc/apa/6068224545.html \n",
      " Bike Parking (Close?, Location Name, Distance (km)):  True location 2 1.3884998893762759 \n",
      " Local Public Off-Street Parking Density, # of Spots:  Low Public Parking Density 18 \n",
      " Local Private Off-Street Parking Density, # of Spots:  High Private Parking Density 115\n"
     ]
    },
    {
     "data": {
      "text/markdown": [
       "**-------------------------------------------------**"
      ],
      "text/plain": [
       "<IPython.core.display.Markdown object>"
      ]
     },
     "metadata": {},
     "output_type": "display_data"
    },
    {
     "name": "stdout",
     "output_type": "stream",
     "text": [
      "Evaluating:  Walk up to your new home! Beautiful ground floor 1 bed available now! http://sfbay.craigslist.org/sfc/apa/6079775925.html\n",
      "Evaluating:  $2175 PANO VW Cath Hill  Clos Lndry elev**OPEN SUN 4:15-5** http://sfbay.craigslist.org/sfc/apa/6068207755.html\n",
      "Evaluating:  Charming Junior One Bedroom! Perfect for City Living! http://sfbay.craigslist.org/sfc/apa/6075767544.html\n"
     ]
    },
    {
     "data": {
      "text/markdown": [
       "**-------------------VALID RESULT------------------**"
      ],
      "text/plain": [
       "<IPython.core.display.Markdown object>"
      ]
     },
     "metadata": {},
     "output_type": "display_data"
    },
    {
     "name": "stdout",
     "output_type": "stream",
     "text": [
      "Area:  SOMA / south beach \n",
      " Price:  $2799 \n",
      " Listing Name:  Charming Junior One Bedroom! Perfect for City Living! \n",
      " URL:  http://sfbay.craigslist.org/sfc/apa/6075767544.html \n",
      " Bike Parking (Close?, Location Name, Distance (km)):  True location 2 0.611655380645615 \n",
      " Local Public Off-Street Parking Density, # of Spots:  Low Public Parking Density 18 \n",
      " Local Private Off-Street Parking Density, # of Spots:  High Private Parking Density 115\n"
     ]
    },
    {
     "data": {
      "text/markdown": [
       "**-------------------------------------------------**"
      ],
      "text/plain": [
       "<IPython.core.display.Markdown object>"
      ]
     },
     "metadata": {},
     "output_type": "display_data"
    },
    {
     "name": "stdout",
     "output_type": "stream",
     "text": [
      "Evaluating:  Great location near Glen Park, Twin Peaks, Views, balconies, Big Rooms http://sfbay.craigslist.org/sfc/apa/6076746363.html\n",
      "Evaluating:  Beautifully Simple Studio For Rent http://sfbay.craigslist.org/sfc/apa/6067207487.html\n",
      "Evaluating:  A Contemporary Suitcase ready studio w/parking & Location-Has it All.! http://sfbay.craigslist.org/sfc/apa/6073514700.html\n",
      "Evaluating:  Beautiful 2 bedroom 1 bath house http://sfbay.craigslist.org/sfc/apa/6079689007.html\n",
      "Evaluating:  Best Neighborhood for Culture and Convenience - Winner in Hayes Valley http://sfbay.craigslist.org/sfc/apa/6079751918.html\n"
     ]
    },
    {
     "data": {
      "text/markdown": [
       "**-------------------VALID RESULT------------------**"
      ],
      "text/plain": [
       "<IPython.core.display.Markdown object>"
      ]
     },
     "metadata": {},
     "output_type": "display_data"
    },
    {
     "name": "stdout",
     "output_type": "stream",
     "text": [
      "Area:  hayes valley \n",
      " Price:  $3195 \n",
      " Listing Name:  Best Neighborhood for Culture and Convenience - Winner in Hayes Valley \n",
      " URL:  http://sfbay.craigslist.org/sfc/apa/6079751918.html \n",
      " Bike Parking (Close?, Location Name, Distance (km)):  True location 3 1.5167444785704594 \n",
      " Local Public Off-Street Parking Density, # of Spots:  Low Public Parking Density 18 \n",
      " Local Private Off-Street Parking Density, # of Spots:  High Private Parking Density 115\n"
     ]
    },
    {
     "data": {
      "text/markdown": [
       "**-------------------------------------------------**"
      ],
      "text/plain": [
       "<IPython.core.display.Markdown object>"
      ]
     },
     "metadata": {},
     "output_type": "display_data"
    },
    {
     "name": "stdout",
     "output_type": "stream",
     "text": [
      "Evaluating:  Just Remodeled!  BEAUTIFUL UNIT in Amazing Location! Duboce Triangle! http://sfbay.craigslist.org/sfc/apa/6079766534.html\n",
      "Evaluating:  MARINA GARDEN APARTMENT http://sfbay.craigslist.org/sfc/apa/6061159773.html\n",
      "Evaluating:  OPEN HOUSE SUN 4/9 12-1PM - Trendy Mission Location - $0 Deposit http://sfbay.craigslist.org/sfc/apa/6079733378.html\n",
      "Evaluating:  GBAR_Large 1bed & 1bath in a convenient location http://sfbay.craigslist.org/sfc/apa/6079746004.html\n",
      "Evaluating:  BEAUTIFUL 2br Unit. Great LOCATION! ~Duboce Triangle~ http://sfbay.craigslist.org/sfc/apa/6079759262.html\n",
      "Evaluating:  Convenient Location, Community Garden, City Views http://sfbay.craigslist.org/sfc/apa/6079724167.html\n"
     ]
    },
    {
     "data": {
      "text/markdown": [
       "**-------------------VALID RESULT------------------**"
      ],
      "text/plain": [
       "<IPython.core.display.Markdown object>"
      ]
     },
     "metadata": {},
     "output_type": "display_data"
    },
    {
     "name": "stdout",
     "output_type": "stream",
     "text": [
      "Area:  hayes valley \n",
      " Price:  $3739 \n",
      " Listing Name:  Convenient Location, Community Garden, City Views \n",
      " URL:  http://sfbay.craigslist.org/sfc/apa/6079724167.html \n",
      " Bike Parking (Close?, Location Name, Distance (km)):  True location 3 1.334282025172962 \n",
      " Local Public Off-Street Parking Density, # of Spots:  Low Public Parking Density 18 \n",
      " Local Private Off-Street Parking Density, # of Spots:  High Private Parking Density 115\n"
     ]
    },
    {
     "data": {
      "text/markdown": [
       "**-------------------------------------------------**"
      ],
      "text/plain": [
       "<IPython.core.display.Markdown object>"
      ]
     },
     "metadata": {},
     "output_type": "display_data"
    },
    {
     "name": "stdout",
     "output_type": "stream",
     "text": [
      "Evaluating:  Model unit at the Soma Grand. Flat screen TV included! ~ J.Wavro http://sfbay.craigslist.org/sfc/apa/6079756683.html\n"
     ]
    },
    {
     "data": {
      "text/markdown": [
       "**-------------------VALID RESULT------------------**"
      ],
      "text/plain": [
       "<IPython.core.display.Markdown object>"
      ]
     },
     "metadata": {},
     "output_type": "display_data"
    },
    {
     "name": "stdout",
     "output_type": "stream",
     "text": [
      "Area:  SOMA / south beach \n",
      " Price:  $3395 \n",
      " Listing Name:  Model unit at the Soma Grand. Flat screen TV included! ~ J.Wavro \n",
      " URL:  http://sfbay.craigslist.org/sfc/apa/6079756683.html \n",
      " Bike Parking (Close?, Location Name, Distance (km)):  True location 2 0.9129728951326399 \n",
      " Local Public Off-Street Parking Density, # of Spots:  Low Public Parking Density 18 \n",
      " Local Private Off-Street Parking Density, # of Spots:  High Private Parking Density 115\n"
     ]
    },
    {
     "data": {
      "text/markdown": [
       "**-------------------------------------------------**"
      ],
      "text/plain": [
       "<IPython.core.display.Markdown object>"
      ]
     },
     "metadata": {},
     "output_type": "display_data"
    },
    {
     "name": "stdout",
     "output_type": "stream",
     "text": [
      "Evaluating:  2bdrm,1bath, $100 off first months rent http://sfbay.craigslist.org/sfc/apa/6048230690.html\n",
      "Evaluating:  Top Floor bright, Beautiful , compl.  remodeled,  block from Hayes st. http://sfbay.craigslist.org/sfc/apa/6064020634.html\n"
     ]
    },
    {
     "data": {
      "text/markdown": [
       "**-------------------VALID RESULT------------------**"
      ],
      "text/plain": [
       "<IPython.core.display.Markdown object>"
      ]
     },
     "metadata": {},
     "output_type": "display_data"
    },
    {
     "name": "stdout",
     "output_type": "stream",
     "text": [
      "Area:  hayes valley \n",
      " Price:  $2750 \n",
      " Listing Name:  Top Floor bright, Beautiful , compl.  remodeled,  block from Hayes st. \n",
      " URL:  http://sfbay.craigslist.org/sfc/apa/6064020634.html \n",
      " Bike Parking (Close?, Location Name, Distance (km)):  True location 3 1.379853969641278 \n",
      " Local Public Off-Street Parking Density, # of Spots:  Low Public Parking Density 18 \n",
      " Local Private Off-Street Parking Density, # of Spots:  High Private Parking Density 115\n"
     ]
    },
    {
     "data": {
      "text/markdown": [
       "**-------------------------------------------------**"
      ],
      "text/plain": [
       "<IPython.core.display.Markdown object>"
      ]
     },
     "metadata": {},
     "output_type": "display_data"
    },
    {
     "name": "stdout",
     "output_type": "stream",
     "text": [
      "Evaluating:  Large bedroom sublet 2nd floor Victorian http://sfbay.craigslist.org/sfc/apa/6079740848.html\n",
      "Evaluating:  In Law unit!! 雅芳出租 http://sfbay.craigslist.org/sfc/apa/6067453366.html\n",
      "Evaluating:  amazing location, unique space, includes parking http://sfbay.craigslist.org/sfc/apa/6079749534.html\n",
      "Evaluating:  1 Bed w/City Views, 24Hr Doorman.& In-Unit Laundry ~ J.Wavro http://sfbay.craigslist.org/sfc/apa/6079744965.html\n",
      "Evaluating:  Top-floor remodeled junior 1-bed 1-bath apt, pkng avail, pets nego http://sfbay.craigslist.org/sfc/apa/6050974526.html\n",
      "Evaluating:  Top Floor Micro-Studio 1 Block From Caltrain + Free Storage! http://sfbay.craigslist.org/sfc/apa/6079742960.html\n",
      "Evaluating:  in 3br 2 bath -Near Caltrain and Muni http://sfbay.craigslist.org/sfc/apa/6079731702.html\n",
      "Evaluating:  Spacious 1-bed 1-bath apartment, private deck, high-rise, pk available http://sfbay.craigslist.org/sfc/apa/6079740326.html\n",
      "Evaluating:  1 bedroom + 1.5 baths + Pet Friendly + Parking + with A/C! http://sfbay.craigslist.org/sfc/apa/6079736443.html\n",
      "Evaluating:  Micro Studios - courtyard, gym, lounge ~ J.Wavro http://sfbay.craigslist.org/sfc/apa/6079736430.html\n",
      "Evaluating:  Private Deck, Backyard, WiFi, W/D, Bamboo Floors, WalkIn Closet http://sfbay.craigslist.org/sfc/apa/6042936682.html\n",
      "Evaluating:  Luxury 1-bed, located on a corner! 24/7 Gym & Concierge + Heated POOL! http://sfbay.craigslist.org/sfc/apa/6076798434.html\n"
     ]
    },
    {
     "data": {
      "text/markdown": [
       "**-------------------VALID RESULT------------------**"
      ],
      "text/plain": [
       "<IPython.core.display.Markdown object>"
      ]
     },
     "metadata": {},
     "output_type": "display_data"
    },
    {
     "name": "stdout",
     "output_type": "stream",
     "text": [
      "Area:  SOMA / south beach \n",
      " Price:  $3940 \n",
      " Listing Name:  Luxury 1-bed, located on a corner! 24/7 Gym & Concierge + Heated POOL! \n",
      " URL:  http://sfbay.craigslist.org/sfc/apa/6076798434.html \n",
      " Bike Parking (Close?, Location Name, Distance (km)):  True location 2 0.8610031861662973 \n",
      " Local Public Off-Street Parking Density, # of Spots:  Low Public Parking Density 18 \n",
      " Local Private Off-Street Parking Density, # of Spots:  High Private Parking Density 115\n"
     ]
    },
    {
     "data": {
      "text/markdown": [
       "**-------------------------------------------------**"
      ],
      "text/plain": [
       "<IPython.core.display.Markdown object>"
      ]
     },
     "metadata": {},
     "output_type": "display_data"
    },
    {
     "name": "stdout",
     "output_type": "stream",
     "text": [
      "Evaluating:  Bright and remodeled top-floor studio with parking included http://sfbay.craigslist.org/sfc/apa/6069901615.html\n",
      "Evaluating:  OPEN TODAY. DESIRABLE LOCATION. CLEAN & COZY 1 BED APT. HRWD FLOOR http://sfbay.craigslist.org/sfc/apa/6079733893.html\n",
      "Evaluating:  Brand New, Modern In-Law http://sfbay.craigslist.org/sfc/apa/6079713417.html\n",
      "Evaluating:  PRIME RUSS HILL, MO FURN, TOP FL, PKG http://sfbay.craigslist.org/sfc/apa/6074581039.html\n",
      "Evaluating:  PRIME & DESIRABLE LOCATION. HARDWOOD 1BED/1BATH http://sfbay.craigslist.org/sfc/apa/6079721595.html\n",
      "Evaluating:  Quite, private, just remodeled Noe Valley Cottage http://sfbay.craigslist.org/sfc/apa/6079721033.html\n",
      "Evaluating:  Rent Controlled Unit with Modern Design http://sfbay.craigslist.org/sfc/apa/6038034960.html\n",
      "Evaluating:  *MANAGER SPECIAL* Lovely Contempoary Studio Flats Available! http://sfbay.craigslist.org/sfc/apa/6075440960.html\n"
     ]
    },
    {
     "data": {
      "text/markdown": [
       "**-------------------VALID RESULT------------------**"
      ],
      "text/plain": [
       "<IPython.core.display.Markdown object>"
      ]
     },
     "metadata": {},
     "output_type": "display_data"
    },
    {
     "name": "stdout",
     "output_type": "stream",
     "text": [
      "Area:  SOMA / south beach \n",
      " Price:  $2299 \n",
      " Listing Name:  *MANAGER SPECIAL* Lovely Contempoary Studio Flats Available! \n",
      " URL:  http://sfbay.craigslist.org/sfc/apa/6075440960.html \n",
      " Bike Parking (Close?, Location Name, Distance (km)):  True location 2 0.611655380645615 \n",
      " Local Public Off-Street Parking Density, # of Spots:  Low Public Parking Density 18 \n",
      " Local Private Off-Street Parking Density, # of Spots:  High Private Parking Density 115\n"
     ]
    },
    {
     "data": {
      "text/markdown": [
       "**-------------------------------------------------**"
      ],
      "text/plain": [
       "<IPython.core.display.Markdown object>"
      ]
     },
     "metadata": {},
     "output_type": "display_data"
    },
    {
     "name": "stdout",
     "output_type": "stream",
     "text": [
      "Evaluating:  Must See! Stylish Studio w/ Loft! http://sfbay.craigslist.org/sfc/apa/6075367313.html\n"
     ]
    },
    {
     "data": {
      "text/markdown": [
       "**-------------------VALID RESULT------------------**"
      ],
      "text/plain": [
       "<IPython.core.display.Markdown object>"
      ]
     },
     "metadata": {},
     "output_type": "display_data"
    },
    {
     "name": "stdout",
     "output_type": "stream",
     "text": [
      "Area:  SOMA / south beach \n",
      " Price:  $2388 \n",
      " Listing Name:  Must See! Stylish Studio w/ Loft! \n",
      " URL:  http://sfbay.craigslist.org/sfc/apa/6075367313.html \n",
      " Bike Parking (Close?, Location Name, Distance (km)):  True location 2 0.611655380645615 \n",
      " Local Public Off-Street Parking Density, # of Spots:  Low Public Parking Density 18 \n",
      " Local Private Off-Street Parking Density, # of Spots:  High Private Parking Density 115\n"
     ]
    },
    {
     "data": {
      "text/markdown": [
       "**-------------------------------------------------**"
      ],
      "text/plain": [
       "<IPython.core.display.Markdown object>"
      ]
     },
     "metadata": {},
     "output_type": "display_data"
    },
    {
     "name": "stdout",
     "output_type": "stream",
     "text": [
      "Evaluating:  Large, Sunny, 1 Bedroom, Parking Included http://sfbay.craigslist.org/sfc/apa/6069450533.html\n",
      "Evaluating:  TOTAL REMODEL 1BR/1BA Upper Market STUNNING Panoramic Dwtn/Bay Views http://sfbay.craigslist.org/sfc/apa/6073719305.html\n",
      "Evaluating:  We've Got Views To Make Your Friends Jealous! #1514 Is A Beauty! http://sfbay.craigslist.org/sfc/apa/6079714864.html\n"
     ]
    },
    {
     "data": {
      "text/markdown": [
       "**-------------------VALID RESULT------------------**"
      ],
      "text/plain": [
       "<IPython.core.display.Markdown object>"
      ]
     },
     "metadata": {},
     "output_type": "display_data"
    },
    {
     "name": "stdout",
     "output_type": "stream",
     "text": [
      "Area:  downtown / civic / van ness \n",
      " Price:  $3168 \n",
      " Listing Name:  We've Got Views To Make Your Friends Jealous! #1514 Is A Beauty! \n",
      " URL:  http://sfbay.craigslist.org/sfc/apa/6079714864.html \n",
      " Bike Parking (Close?, Location Name, Distance (km)):  True location 2 1.1270962875486512 \n",
      " Local Public Off-Street Parking Density, # of Spots:  Low Public Parking Density 18 \n",
      " Local Private Off-Street Parking Density, # of Spots:  High Private Parking Density 115\n"
     ]
    },
    {
     "data": {
      "text/markdown": [
       "**-------------------------------------------------**"
      ],
      "text/plain": [
       "<IPython.core.display.Markdown object>"
      ]
     },
     "metadata": {},
     "output_type": "display_data"
    },
    {
     "name": "stdout",
     "output_type": "stream",
     "text": [
      "Evaluating:  Sunny and renovated top-floor studio with exposed-beam ceiling & views http://sfbay.craigslist.org/sfc/apa/6045049480.html\n",
      "Evaluating:  Spectacular Jr 1 bed in unique community! One Month Free! http://sfbay.craigslist.org/sfc/apa/6079714108.html\n",
      "Evaluating:  FANTASTIC 1BR WITH INCREDIBLE VIEWS AT THE CIVIC! COME TOUR TODAY! http://sfbay.craigslist.org/sfc/apa/6079714003.html\n"
     ]
    },
    {
     "data": {
      "text/markdown": [
       "**-------------------VALID RESULT------------------**"
      ],
      "text/plain": [
       "<IPython.core.display.Markdown object>"
      ]
     },
     "metadata": {},
     "output_type": "display_data"
    },
    {
     "name": "stdout",
     "output_type": "stream",
     "text": [
      "Area:  hayes valley \n",
      " Price:  $3600 \n",
      " Listing Name:  FANTASTIC 1BR WITH INCREDIBLE VIEWS AT THE CIVIC! COME TOUR TODAY! \n",
      " URL:  http://sfbay.craigslist.org/sfc/apa/6079714003.html \n",
      " Bike Parking (Close?, Location Name, Distance (km)):  True location 2 1.07091784808219 \n",
      " Local Public Off-Street Parking Density, # of Spots:  Low Public Parking Density 18 \n",
      " Local Private Off-Street Parking Density, # of Spots:  High Private Parking Density 115\n"
     ]
    },
    {
     "data": {
      "text/markdown": [
       "**-------------------------------------------------**"
      ],
      "text/plain": [
       "<IPython.core.display.Markdown object>"
      ]
     },
     "metadata": {},
     "output_type": "display_data"
    },
    {
     "name": "stdout",
     "output_type": "stream",
     "text": [
      "Evaluating:  UPDATED 3BR/2BA Sunset Apartment Sunny & Bright Ocean Views AVAIL 4/1 http://sfbay.craigslist.org/sfc/apa/6062336815.html\n",
      "Evaluating:  Sunny, top-floor remodeled 2-bed 1-bath apt, view, pk avail, pets nego http://sfbay.craigslist.org/sfc/apa/6060572408.html\n",
      "Evaluating:  Open house today & tomorrow 1 bedroom/1bath http://sfbay.craigslist.org/sfc/apa/6079711499.html\n",
      "Evaluating:  1X1 APARTMENT READY FOR IMMEDIATE OCCUPANCY! CALL THE CIVIC TODAY! http://sfbay.craigslist.org/sfc/apa/6079711119.html\n"
     ]
    },
    {
     "data": {
      "text/markdown": [
       "**-------------------VALID RESULT------------------**"
      ],
      "text/plain": [
       "<IPython.core.display.Markdown object>"
      ]
     },
     "metadata": {},
     "output_type": "display_data"
    },
    {
     "name": "stdout",
     "output_type": "stream",
     "text": [
      "Area:  hayes valley \n",
      " Price:  $3117 \n",
      " Listing Name:  1X1 APARTMENT READY FOR IMMEDIATE OCCUPANCY! CALL THE CIVIC TODAY! \n",
      " URL:  http://sfbay.craigslist.org/sfc/apa/6079711119.html \n",
      " Bike Parking (Close?, Location Name, Distance (km)):  True location 2 1.07091784808219 \n",
      " Local Public Off-Street Parking Density, # of Spots:  Low Public Parking Density 18 \n",
      " Local Private Off-Street Parking Density, # of Spots:  High Private Parking Density 115\n"
     ]
    },
    {
     "data": {
      "text/markdown": [
       "**-------------------------------------------------**"
      ],
      "text/plain": [
       "<IPython.core.display.Markdown object>"
      ]
     },
     "metadata": {},
     "output_type": "display_data"
    },
    {
     "name": "stdout",
     "output_type": "stream",
     "text": [
      "Evaluating:  Come Stay Dry In Your New Home At Waterbend. $1000 off ALL 2x2 Today! http://sfbay.craigslist.org/sfc/apa/6079708515.html\n",
      "Evaluating:  NOB HILL UPDATED 1BR http://sfbay.craigslist.org/sfc/apa/6079706801.html\n",
      "Evaluating:  AMAZING NEW STUDIO!! DON'T MISS YOUR CHANCE TO RENT AT THE CIVIC!!! http://sfbay.craigslist.org/sfc/apa/6079706541.html\n"
     ]
    },
    {
     "data": {
      "text/markdown": [
       "**-------------------VALID RESULT------------------**"
      ],
      "text/plain": [
       "<IPython.core.display.Markdown object>"
      ]
     },
     "metadata": {},
     "output_type": "display_data"
    },
    {
     "name": "stdout",
     "output_type": "stream",
     "text": [
      "Area:  hayes valley \n",
      " Price:  $2950 \n",
      " Listing Name:  AMAZING NEW STUDIO!! DON'T MISS YOUR CHANCE TO RENT AT THE CIVIC!!! \n",
      " URL:  http://sfbay.craigslist.org/sfc/apa/6079706541.html \n",
      " Bike Parking (Close?, Location Name, Distance (km)):  True location 2 1.07091784808219 \n",
      " Local Public Off-Street Parking Density, # of Spots:  Low Public Parking Density 18 \n",
      " Local Private Off-Street Parking Density, # of Spots:  High Private Parking Density 115\n"
     ]
    },
    {
     "data": {
      "text/markdown": [
       "**-------------------------------------------------**"
      ],
      "text/plain": [
       "<IPython.core.display.Markdown object>"
      ]
     },
     "metadata": {},
     "output_type": "display_data"
    },
    {
     "name": "stdout",
     "output_type": "stream",
     "text": [
      "Evaluating:  2 BED/1 BATH Hardwood Floors D/W w/Free Parking!!!!!!!!!!!!!!!!!!!!!!! http://sfbay.craigslist.org/sfc/apa/6079706423.html\n",
      "Evaluating:  Beautiful Design | Pristine Interior Spaces | 1 Bedroom Plus Office http://sfbay.craigslist.org/sfc/apa/6079686336.html\n",
      "Evaluating:  2 Bed/1 Bath, H/W, D/W, Free Parking!!!!!!!!!!!!!!!!!!!!!!!!!!!!!!!!!! http://sfbay.craigslist.org/sfc/apa/6079705334.html\n",
      "Evaluating:  TWO BEDROOM IN ELM STREET http://sfbay.craigslist.org/sfc/apa/6079635860.html\n",
      "Evaluating:  1 Bed***Top Floor***Hardwood Floors***Free Parking************* http://sfbay.craigslist.org/sfc/apa/6079704243.html\n",
      "Evaluating:  Live in a hotel http://sfbay.craigslist.org/sfc/apa/6079703391.html\n"
     ]
    },
    {
     "data": {
      "text/markdown": [
       "**-------------------VALID RESULT------------------**"
      ],
      "text/plain": [
       "<IPython.core.display.Markdown object>"
      ]
     },
     "metadata": {},
     "output_type": "display_data"
    },
    {
     "name": "stdout",
     "output_type": "stream",
     "text": [
      "Area:  financial district \n",
      " Price:  $1760 \n",
      " Listing Name:  Live in a hotel \n",
      " URL:  http://sfbay.craigslist.org/sfc/apa/6079703391.html \n",
      " Bike Parking (Close?, Location Name, Distance (km)):  True location 2 0.6684214678667498 \n",
      " Local Public Off-Street Parking Density, # of Spots:  Low Public Parking Density 18 \n",
      " Local Private Off-Street Parking Density, # of Spots:  High Private Parking Density 115\n"
     ]
    },
    {
     "data": {
      "text/markdown": [
       "**-------------------------------------------------**"
      ],
      "text/plain": [
       "<IPython.core.display.Markdown object>"
      ]
     },
     "metadata": {},
     "output_type": "display_data"
    },
    {
     "name": "stdout",
     "output_type": "stream",
     "text": [
      "Evaluating:  Studio Top Floor Skylight Hardwood Floor Free Parking***************** http://sfbay.craigslist.org/sfc/apa/6079703103.html\n",
      "Evaluating:  Private Bedroom in newly remodeled 3bd house http://sfbay.craigslist.org/sfc/apa/6072956000.html\n",
      "Evaluating:  1x1 with Financial District Skyline and Plaza View! http://sfbay.craigslist.org/sfc/apa/6079701878.html\n",
      "Evaluating:  Walk to restaurants, neighborhood parks, library, and MUNI http://sfbay.craigslist.org/sfc/apa/6054674908.html\n",
      "Evaluating:  Room for Rent Daly City/Pacifica http://sfbay.craigslist.org/sfc/apa/6079684494.html\n",
      "Evaluating:  Bright top-floor remodeled Art Deco studio with Bay views http://sfbay.craigslist.org/sfc/apa/6066980347.html\n",
      "Evaluating:  IMMEDIATE MOVE IN SPECIALS $200 GIFT CARD AND MORE!! http://sfbay.craigslist.org/sfc/apa/6079698126.html\n"
     ]
    },
    {
     "data": {
      "text/markdown": [
       "**-------------------VALID RESULT------------------**"
      ],
      "text/plain": [
       "<IPython.core.display.Markdown object>"
      ]
     },
     "metadata": {},
     "output_type": "display_data"
    },
    {
     "name": "stdout",
     "output_type": "stream",
     "text": [
      "Area:  downtown / civic / van ness \n",
      " Price:  $2599 \n",
      " Listing Name:  IMMEDIATE MOVE IN SPECIALS $200 GIFT CARD AND MORE!! \n",
      " URL:  http://sfbay.craigslist.org/sfc/apa/6079698126.html \n",
      " Bike Parking (Close?, Location Name, Distance (km)):  True location 2 1.1270962875486512 \n",
      " Local Public Off-Street Parking Density, # of Spots:  Low Public Parking Density 18 \n",
      " Local Private Off-Street Parking Density, # of Spots:  High Private Parking Density 115\n"
     ]
    },
    {
     "data": {
      "text/markdown": [
       "**-------------------------------------------------**"
      ],
      "text/plain": [
       "<IPython.core.display.Markdown object>"
      ]
     },
     "metadata": {},
     "output_type": "display_data"
    },
    {
     "name": "stdout",
     "output_type": "stream",
     "text": [
      "Evaluating:  Studio@ Inner Richmond_Move-In Today! http://sfbay.craigslist.org/sfc/apa/6055184988.html\n",
      "Evaluating:  STUDIO APARTMENT READY FOR RENT IN THE HEART OF THE CITY! http://sfbay.craigslist.org/sfc/apa/6079697661.html\n"
     ]
    },
    {
     "data": {
      "text/markdown": [
       "**-------------------VALID RESULT------------------**"
      ],
      "text/plain": [
       "<IPython.core.display.Markdown object>"
      ]
     },
     "metadata": {},
     "output_type": "display_data"
    },
    {
     "name": "stdout",
     "output_type": "stream",
     "text": [
      "Area:  hayes valley \n",
      " Price:  $2800 \n",
      " Listing Name:  STUDIO APARTMENT READY FOR RENT IN THE HEART OF THE CITY! \n",
      " URL:  http://sfbay.craigslist.org/sfc/apa/6079697661.html \n",
      " Bike Parking (Close?, Location Name, Distance (km)):  True location 2 1.07091784808219 \n",
      " Local Public Off-Street Parking Density, # of Spots:  Low Public Parking Density 18 \n",
      " Local Private Off-Street Parking Density, # of Spots:  High Private Parking Density 115\n"
     ]
    },
    {
     "data": {
      "text/markdown": [
       "**-------------------------------------------------**"
      ],
      "text/plain": [
       "<IPython.core.display.Markdown object>"
      ]
     },
     "metadata": {},
     "output_type": "display_data"
    },
    {
     "name": "stdout",
     "output_type": "stream",
     "text": [
      "Evaluating:  Sunny, 2-BR 1-BA + Garage, Noe Valley by Google Bus Stop http://sfbay.craigslist.org/sfc/apa/6079697520.html\n",
      "Evaluating:  Bright and Sunny 2bd/2ba condo  Great Views,  Gated Community http://sfbay.craigslist.org/sfc/apa/6075712798.html\n",
      "Evaluating:  Sunny, 2-BR, 1-BA + Garage in Noe Valley by Google Bus Stop http://sfbay.craigslist.org/sfc/apa/6079693846.html\n",
      "Evaluating:  Beautiful Condo at the Palms Rent Covers water and Garbage http://sfbay.craigslist.org/sfc/apa/6079677568.html\n",
      "Evaluating:  Renovated 1-bedroom 1-bathroom apartment, parking included http://sfbay.craigslist.org/sfc/apa/6073660061.html\n",
      "Evaluating:  Spacious 1 Bed w/ Dishwasher, Hard Surface Flooring, W/ D in Unit http://sfbay.craigslist.org/sfc/apa/6079690025.html\n",
      "Evaluating:  DON'T MISS OUT IMMEDIATE MOVE IN SPECIALS!! http://sfbay.craigslist.org/sfc/apa/6079687931.html\n"
     ]
    },
    {
     "data": {
      "text/markdown": [
       "**-------------------VALID RESULT------------------**"
      ],
      "text/plain": [
       "<IPython.core.display.Markdown object>"
      ]
     },
     "metadata": {},
     "output_type": "display_data"
    },
    {
     "name": "stdout",
     "output_type": "stream",
     "text": [
      "Area:  downtown / civic / van ness \n",
      " Price:  $2484 \n",
      " Listing Name:  DON'T MISS OUT IMMEDIATE MOVE IN SPECIALS!! \n",
      " URL:  http://sfbay.craigslist.org/sfc/apa/6079687931.html \n",
      " Bike Parking (Close?, Location Name, Distance (km)):  True location 2 1.1270962875486512 \n",
      " Local Public Off-Street Parking Density, # of Spots:  Low Public Parking Density 18 \n",
      " Local Private Off-Street Parking Density, # of Spots:  High Private Parking Density 115\n"
     ]
    },
    {
     "data": {
      "text/markdown": [
       "**-------------------------------------------------**"
      ],
      "text/plain": [
       "<IPython.core.display.Markdown object>"
      ]
     },
     "metadata": {},
     "output_type": "display_data"
    },
    {
     "name": "stdout",
     "output_type": "stream",
     "text": [
      "Evaluating:  146 McAllister - Newly Renovated Studio (Near BART and City Hall) http://sfbay.craigslist.org/sfc/apa/6076089890.html\n"
     ]
    },
    {
     "data": {
      "text/markdown": [
       "**-------------------VALID RESULT------------------**"
      ],
      "text/plain": [
       "<IPython.core.display.Markdown object>"
      ]
     },
     "metadata": {},
     "output_type": "display_data"
    },
    {
     "name": "stdout",
     "output_type": "stream",
     "text": [
      "Area:  146 McAllister \n",
      " Price:  $1895 \n",
      " Listing Name:  146 McAllister - Newly Renovated Studio (Near BART and City Hall) \n",
      " URL:  http://sfbay.craigslist.org/sfc/apa/6076089890.html \n",
      " Bike Parking (Close?, Location Name, Distance (km)):  True location 2 0.6073421074428924 \n",
      " Local Public Off-Street Parking Density, # of Spots:  Low Public Parking Density 18 \n",
      " Local Private Off-Street Parking Density, # of Spots:  High Private Parking Density 115\n"
     ]
    },
    {
     "data": {
      "text/markdown": [
       "**-------------------------------------------------**"
      ],
      "text/plain": [
       "<IPython.core.display.Markdown object>"
      ]
     },
     "metadata": {},
     "output_type": "display_data"
    },
    {
     "name": "stdout",
     "output_type": "stream",
     "text": [
      "Evaluating:  $2450 575 O'Farrell - One Bedroom (Near Business District) http://sfbay.craigslist.org/sfc/apa/6076273603.html\n"
     ]
    },
    {
     "data": {
      "text/markdown": [
       "**-------------------VALID RESULT------------------**"
      ],
      "text/plain": [
       "<IPython.core.display.Markdown object>"
      ]
     },
     "metadata": {},
     "output_type": "display_data"
    },
    {
     "name": "stdout",
     "output_type": "stream",
     "text": [
      "Area:  Tenderloin \n",
      " Price:  $2450 \n",
      " Listing Name:  $2450 575 O'Farrell - One Bedroom (Near Business District) \n",
      " URL:  http://sfbay.craigslist.org/sfc/apa/6076273603.html \n",
      " Bike Parking (Close?, Location Name, Distance (km)):  True location 2 0.6684214678667498 \n",
      " Local Public Off-Street Parking Density, # of Spots:  Low Public Parking Density 18 \n",
      " Local Private Off-Street Parking Density, # of Spots:  High Private Parking Density 115\n"
     ]
    },
    {
     "data": {
      "text/markdown": [
       "**-------------------------------------------------**"
      ],
      "text/plain": [
       "<IPython.core.display.Markdown object>"
      ]
     },
     "metadata": {},
     "output_type": "display_data"
    },
    {
     "name": "stdout",
     "output_type": "stream",
     "text": [
      "Evaluating:  825 Post - One Bedroom (Near Union Square) http://sfbay.craigslist.org/sfc/apa/6076286986.html\n"
     ]
    },
    {
     "data": {
      "text/plain": [
       "[{'BP_close': True,\n",
       "  'BP_distance': 1.0449865838479797,\n",
       "  'BP_location': 'location 3',\n",
       "  'Private_Parking_Density': 'High Private Parking Density',\n",
       "  'Private_Parking_Spots': 115,\n",
       "  'Public_Parking_Density': 'Low Public Parking Density',\n",
       "  'Public_Parking_Spots': 18,\n",
       "  'area': 'lower haight',\n",
       "  'datetime': '2017-04-08 10:54',\n",
       "  'geotag': (37.774243, -122.429709),\n",
       "  'has_image': True,\n",
       "  'has_map': True,\n",
       "  'id': '6068242445',\n",
       "  'name': '$3100 SPACIOUS Lower Haight Victorian 1 BR ***OPEN SUN 3:30-4***',\n",
       "  'price': '$3100',\n",
       "  'url': 'http://sfbay.craigslist.org/sfc/apa/6068242445.html',\n",
       "  'where': 'lower haight'},\n",
       " {'BP_close': True,\n",
       "  'BP_distance': 1.4251647084719548,\n",
       "  'BP_location': 'location 2',\n",
       "  'Private_Parking_Density': 'High Private Parking Density',\n",
       "  'Private_Parking_Spots': 115,\n",
       "  'Public_Parking_Density': 'Low Public Parking Density',\n",
       "  'Public_Parking_Spots': 18,\n",
       "  'area': 'hayes valley',\n",
       "  'datetime': '2017-04-08 10:51',\n",
       "  'geotag': (37.775633, -122.421598),\n",
       "  'has_image': True,\n",
       "  'has_map': True,\n",
       "  'id': '6068233264',\n",
       "  'name': '$3200 TOP FL Unique Bright GardenVW DW elev lndry***OPEN SUN 3:30-4***',\n",
       "  'price': '$3200',\n",
       "  'url': 'http://sfbay.craigslist.org/sfc/apa/6068233264.html',\n",
       "  'where': 'hayes valley'},\n",
       " {'BP_close': True,\n",
       "  'BP_distance': 1.3884998893762759,\n",
       "  'BP_location': 'location 2',\n",
       "  'Private_Parking_Density': 'High Private Parking Density',\n",
       "  'Private_Parking_Spots': 115,\n",
       "  'Public_Parking_Density': 'Low Public Parking Density',\n",
       "  'Public_Parking_Spots': 18,\n",
       "  'area': 'hayes valley',\n",
       "  'datetime': '2017-04-08 10:38',\n",
       "  'geotag': (37.776108, -122.421663),\n",
       "  'has_image': True,\n",
       "  'has_map': True,\n",
       "  'id': '6068224545',\n",
       "  'name': '$2200 Cozy private STUDIO lndry elev. HEART OF H.V.**OPEN SUN 3:30-4',\n",
       "  'price': '$2200',\n",
       "  'url': 'http://sfbay.craigslist.org/sfc/apa/6068224545.html',\n",
       "  'where': 'hayes valley'},\n",
       " {'BP_close': True,\n",
       "  'BP_distance': 0.611655380645615,\n",
       "  'BP_location': 'location 2',\n",
       "  'Private_Parking_Density': 'High Private Parking Density',\n",
       "  'Private_Parking_Spots': 115,\n",
       "  'Public_Parking_Density': 'Low Public Parking Density',\n",
       "  'Public_Parking_Spots': 18,\n",
       "  'area': 'SOMA / south beach',\n",
       "  'datetime': '2017-04-08 10:37',\n",
       "  'geotag': (37.780181, -122.409709),\n",
       "  'has_image': True,\n",
       "  'has_map': True,\n",
       "  'id': '6075767544',\n",
       "  'name': 'Charming Junior One Bedroom! Perfect for City Living!',\n",
       "  'price': '$2799',\n",
       "  'url': 'http://sfbay.craigslist.org/sfc/apa/6075767544.html',\n",
       "  'where': 'SOMA / south beach'},\n",
       " {'BP_close': True,\n",
       "  'BP_distance': 1.5167444785704594,\n",
       "  'BP_location': 'location 3',\n",
       "  'Private_Parking_Density': 'High Private Parking Density',\n",
       "  'Private_Parking_Spots': 115,\n",
       "  'Public_Parking_Density': 'Low Public Parking Density',\n",
       "  'Public_Parking_Spots': 18,\n",
       "  'area': 'hayes valley',\n",
       "  'datetime': '2017-04-08 10:34',\n",
       "  'geotag': (37.771239, -122.42521),\n",
       "  'has_image': True,\n",
       "  'has_map': True,\n",
       "  'id': '6079751918',\n",
       "  'name': 'Best Neighborhood for Culture and Convenience - Winner in Hayes Valley',\n",
       "  'price': '$3195',\n",
       "  'url': 'http://sfbay.craigslist.org/sfc/apa/6079751918.html',\n",
       "  'where': 'hayes valley'},\n",
       " {'BP_close': True,\n",
       "  'BP_distance': 1.334282025172962,\n",
       "  'BP_location': 'location 3',\n",
       "  'Private_Parking_Density': 'High Private Parking Density',\n",
       "  'Private_Parking_Spots': 115,\n",
       "  'Public_Parking_Density': 'Low Public Parking Density',\n",
       "  'Public_Parking_Spots': 18,\n",
       "  'area': 'hayes valley',\n",
       "  'datetime': '2017-04-08 10:27',\n",
       "  'geotag': (37.772194, -122.426986),\n",
       "  'has_image': True,\n",
       "  'has_map': True,\n",
       "  'id': '6079724167',\n",
       "  'name': 'Convenient Location, Community Garden, City Views',\n",
       "  'price': '$3739',\n",
       "  'url': 'http://sfbay.craigslist.org/sfc/apa/6079724167.html',\n",
       "  'where': 'hayes valley'},\n",
       " {'BP_close': True,\n",
       "  'BP_distance': 0.9129728951326399,\n",
       "  'BP_location': 'location 2',\n",
       "  'Private_Parking_Density': 'High Private Parking Density',\n",
       "  'Private_Parking_Spots': 115,\n",
       "  'Public_Parking_Density': 'Low Public Parking Density',\n",
       "  'Public_Parking_Spots': 18,\n",
       "  'area': 'SOMA / south beach',\n",
       "  'datetime': '2017-04-08 10:27',\n",
       "  'geotag': (37.777457, -122.413158),\n",
       "  'has_image': True,\n",
       "  'has_map': True,\n",
       "  'id': '6079756683',\n",
       "  'name': 'Model unit at the Soma Grand. Flat screen TV included! ~ J.Wavro',\n",
       "  'price': '$3395',\n",
       "  'url': 'http://sfbay.craigslist.org/sfc/apa/6079756683.html',\n",
       "  'where': 'SOMA / south beach'},\n",
       " {'BP_close': True,\n",
       "  'BP_distance': 1.379853969641278,\n",
       "  'BP_location': 'location 3',\n",
       "  'Private_Parking_Density': 'High Private Parking Density',\n",
       "  'Private_Parking_Spots': 115,\n",
       "  'Public_Parking_Density': 'Low Public Parking Density',\n",
       "  'Public_Parking_Spots': 18,\n",
       "  'area': 'hayes valley',\n",
       "  'datetime': '2017-04-08 10:24',\n",
       "  'geotag': (37.774332, -122.425834),\n",
       "  'has_image': True,\n",
       "  'has_map': True,\n",
       "  'id': '6064020634',\n",
       "  'name': 'Top Floor bright, Beautiful , compl.  remodeled,  block from Hayes st.',\n",
       "  'price': '$2750',\n",
       "  'url': 'http://sfbay.craigslist.org/sfc/apa/6064020634.html',\n",
       "  'where': 'hayes valley'},\n",
       " {'BP_close': True,\n",
       "  'BP_distance': 0.8610031861662973,\n",
       "  'BP_location': 'location 2',\n",
       "  'Private_Parking_Density': 'High Private Parking Density',\n",
       "  'Private_Parking_Spots': 115,\n",
       "  'Public_Parking_Density': 'Low Public Parking Density',\n",
       "  'Public_Parking_Spots': 18,\n",
       "  'area': 'SOMA / south beach',\n",
       "  'datetime': '2017-04-08 10:14',\n",
       "  'geotag': (37.786588, -122.401596),\n",
       "  'has_image': True,\n",
       "  'has_map': True,\n",
       "  'id': '6076798434',\n",
       "  'name': 'Luxury 1-bed, located on a corner! 24/7 Gym & Concierge + Heated POOL!',\n",
       "  'price': '$3940',\n",
       "  'url': 'http://sfbay.craigslist.org/sfc/apa/6076798434.html',\n",
       "  'where': 'SOMA / south beach'},\n",
       " {'BP_close': True,\n",
       "  'BP_distance': 0.611655380645615,\n",
       "  'BP_location': 'location 2',\n",
       "  'Private_Parking_Density': 'High Private Parking Density',\n",
       "  'Private_Parking_Spots': 115,\n",
       "  'Public_Parking_Density': 'Low Public Parking Density',\n",
       "  'Public_Parking_Spots': 18,\n",
       "  'area': 'SOMA / south beach',\n",
       "  'datetime': '2017-04-08 10:04',\n",
       "  'geotag': (37.780181, -122.409709),\n",
       "  'has_image': True,\n",
       "  'has_map': True,\n",
       "  'id': '6075440960',\n",
       "  'name': '*MANAGER SPECIAL* Lovely Contempoary Studio Flats Available!',\n",
       "  'price': '$2299',\n",
       "  'url': 'http://sfbay.craigslist.org/sfc/apa/6075440960.html',\n",
       "  'where': 'SOMA / south beach'},\n",
       " {'BP_close': True,\n",
       "  'BP_distance': 0.611655380645615,\n",
       "  'BP_location': 'location 2',\n",
       "  'Private_Parking_Density': 'High Private Parking Density',\n",
       "  'Private_Parking_Spots': 115,\n",
       "  'Public_Parking_Density': 'Low Public Parking Density',\n",
       "  'Public_Parking_Spots': 18,\n",
       "  'area': 'SOMA / south beach',\n",
       "  'datetime': '2017-04-08 10:04',\n",
       "  'geotag': (37.780181, -122.409709),\n",
       "  'has_image': True,\n",
       "  'has_map': True,\n",
       "  'id': '6075367313',\n",
       "  'name': 'Must See! Stylish Studio w/ Loft!',\n",
       "  'price': '$2388',\n",
       "  'url': 'http://sfbay.craigslist.org/sfc/apa/6075367313.html',\n",
       "  'where': 'SOMA / south beach'},\n",
       " {'BP_close': True,\n",
       "  'BP_distance': 1.1270962875486512,\n",
       "  'BP_location': 'location 2',\n",
       "  'Private_Parking_Density': 'High Private Parking Density',\n",
       "  'Private_Parking_Spots': 115,\n",
       "  'Public_Parking_Density': 'Low Public Parking Density',\n",
       "  'Public_Parking_Spots': 18,\n",
       "  'area': 'downtown / civic / van ness',\n",
       "  'datetime': '2017-04-08 10:02',\n",
       "  'geotag': (37.776619, -122.417402),\n",
       "  'has_image': True,\n",
       "  'has_map': True,\n",
       "  'id': '6079714864',\n",
       "  'name': \"We've Got Views To Make Your Friends Jealous! #1514 Is A Beauty!\",\n",
       "  'price': '$3168',\n",
       "  'url': 'http://sfbay.craigslist.org/sfc/apa/6079714864.html',\n",
       "  'where': 'downtown / civic / van ness'},\n",
       " {'BP_close': True,\n",
       "  'BP_distance': 1.07091784808219,\n",
       "  'BP_location': 'location 2',\n",
       "  'Private_Parking_Density': 'High Private Parking Density',\n",
       "  'Private_Parking_Spots': 115,\n",
       "  'Public_Parking_Density': 'Low Public Parking Density',\n",
       "  'Public_Parking_Spots': 18,\n",
       "  'area': 'hayes valley',\n",
       "  'datetime': '2017-04-08 10:02',\n",
       "  'geotag': (37.777512, -122.418043),\n",
       "  'has_image': True,\n",
       "  'has_map': True,\n",
       "  'id': '6079714003',\n",
       "  'name': 'FANTASTIC 1BR WITH INCREDIBLE VIEWS AT THE CIVIC! COME TOUR TODAY!',\n",
       "  'price': '$3600',\n",
       "  'url': 'http://sfbay.craigslist.org/sfc/apa/6079714003.html',\n",
       "  'where': 'hayes valley'},\n",
       " {'BP_close': True,\n",
       "  'BP_distance': 1.07091784808219,\n",
       "  'BP_location': 'location 2',\n",
       "  'Private_Parking_Density': 'High Private Parking Density',\n",
       "  'Private_Parking_Spots': 115,\n",
       "  'Public_Parking_Density': 'Low Public Parking Density',\n",
       "  'Public_Parking_Spots': 18,\n",
       "  'area': 'hayes valley',\n",
       "  'datetime': '2017-04-08 10:00',\n",
       "  'geotag': (37.777512, -122.418043),\n",
       "  'has_image': True,\n",
       "  'has_map': True,\n",
       "  'id': '6079711119',\n",
       "  'name': '1X1 APARTMENT READY FOR IMMEDIATE OCCUPANCY! CALL THE CIVIC TODAY!',\n",
       "  'price': '$3117',\n",
       "  'url': 'http://sfbay.craigslist.org/sfc/apa/6079711119.html',\n",
       "  'where': 'hayes valley'},\n",
       " {'BP_close': True,\n",
       "  'BP_distance': 1.07091784808219,\n",
       "  'BP_location': 'location 2',\n",
       "  'Private_Parking_Density': 'High Private Parking Density',\n",
       "  'Private_Parking_Spots': 115,\n",
       "  'Public_Parking_Density': 'Low Public Parking Density',\n",
       "  'Public_Parking_Spots': 18,\n",
       "  'area': 'hayes valley',\n",
       "  'datetime': '2017-04-08 09:57',\n",
       "  'geotag': (37.777512, -122.418043),\n",
       "  'has_image': True,\n",
       "  'has_map': True,\n",
       "  'id': '6079706541',\n",
       "  'name': \"AMAZING NEW STUDIO!! DON'T MISS YOUR CHANCE TO RENT AT THE CIVIC!!!\",\n",
       "  'price': '$2950',\n",
       "  'url': 'http://sfbay.craigslist.org/sfc/apa/6079706541.html',\n",
       "  'where': 'hayes valley'},\n",
       " {'BP_close': True,\n",
       "  'BP_distance': 0.6684214678667498,\n",
       "  'BP_location': 'location 2',\n",
       "  'Private_Parking_Density': 'High Private Parking Density',\n",
       "  'Private_Parking_Spots': 115,\n",
       "  'Public_Parking_Density': 'Low Public Parking Density',\n",
       "  'Public_Parking_Spots': 18,\n",
       "  'area': 'financial district',\n",
       "  'datetime': '2017-04-08 09:55',\n",
       "  'geotag': (37.7813, -122.4167),\n",
       "  'has_image': True,\n",
       "  'has_map': True,\n",
       "  'id': '6079703391',\n",
       "  'name': 'Live in a hotel',\n",
       "  'price': '$1760',\n",
       "  'url': 'http://sfbay.craigslist.org/sfc/apa/6079703391.html',\n",
       "  'where': 'financial district'},\n",
       " {'BP_close': True,\n",
       "  'BP_distance': 1.1270962875486512,\n",
       "  'BP_location': 'location 2',\n",
       "  'Private_Parking_Density': 'High Private Parking Density',\n",
       "  'Private_Parking_Spots': 115,\n",
       "  'Public_Parking_Density': 'Low Public Parking Density',\n",
       "  'Public_Parking_Spots': 18,\n",
       "  'area': 'downtown / civic / van ness',\n",
       "  'datetime': '2017-04-08 09:52',\n",
       "  'geotag': (37.776619, -122.417402),\n",
       "  'has_image': True,\n",
       "  'has_map': True,\n",
       "  'id': '6079698126',\n",
       "  'name': 'IMMEDIATE MOVE IN SPECIALS $200 GIFT CARD AND MORE!!',\n",
       "  'price': '$2599',\n",
       "  'url': 'http://sfbay.craigslist.org/sfc/apa/6079698126.html',\n",
       "  'where': 'downtown / civic / van ness'},\n",
       " {'BP_close': True,\n",
       "  'BP_distance': 1.07091784808219,\n",
       "  'BP_location': 'location 2',\n",
       "  'Private_Parking_Density': 'High Private Parking Density',\n",
       "  'Private_Parking_Spots': 115,\n",
       "  'Public_Parking_Density': 'Low Public Parking Density',\n",
       "  'Public_Parking_Spots': 18,\n",
       "  'area': 'hayes valley',\n",
       "  'datetime': '2017-04-08 09:52',\n",
       "  'geotag': (37.777512, -122.418043),\n",
       "  'has_image': True,\n",
       "  'has_map': True,\n",
       "  'id': '6079697661',\n",
       "  'name': 'STUDIO APARTMENT READY FOR RENT IN THE HEART OF THE CITY!',\n",
       "  'price': '$2800',\n",
       "  'url': 'http://sfbay.craigslist.org/sfc/apa/6079697661.html',\n",
       "  'where': 'hayes valley'},\n",
       " {'BP_close': True,\n",
       "  'BP_distance': 1.1270962875486512,\n",
       "  'BP_location': 'location 2',\n",
       "  'Private_Parking_Density': 'High Private Parking Density',\n",
       "  'Private_Parking_Spots': 115,\n",
       "  'Public_Parking_Density': 'Low Public Parking Density',\n",
       "  'Public_Parking_Spots': 18,\n",
       "  'area': 'downtown / civic / van ness',\n",
       "  'datetime': '2017-04-08 09:46',\n",
       "  'geotag': (37.776619, -122.417402),\n",
       "  'has_image': True,\n",
       "  'has_map': True,\n",
       "  'id': '6079687931',\n",
       "  'name': \"DON'T MISS OUT IMMEDIATE MOVE IN SPECIALS!!\",\n",
       "  'price': '$2484',\n",
       "  'url': 'http://sfbay.craigslist.org/sfc/apa/6079687931.html',\n",
       "  'where': 'downtown / civic / van ness'},\n",
       " {'BP_close': True,\n",
       "  'BP_distance': 0.6073421074428924,\n",
       "  'BP_location': 'location 2',\n",
       "  'Private_Parking_Density': 'High Private Parking Density',\n",
       "  'Private_Parking_Spots': 115,\n",
       "  'Public_Parking_Density': 'Low Public Parking Density',\n",
       "  'Public_Parking_Spots': 18,\n",
       "  'area': '146 McAllister',\n",
       "  'datetime': '2017-04-08 09:44',\n",
       "  'geotag': (37.780793, -122.414731),\n",
       "  'has_image': True,\n",
       "  'has_map': True,\n",
       "  'id': '6076089890',\n",
       "  'name': '146 McAllister - Newly Renovated Studio (Near BART and City Hall)',\n",
       "  'price': '$1895',\n",
       "  'url': 'http://sfbay.craigslist.org/sfc/apa/6076089890.html',\n",
       "  'where': '146 McAllister'},\n",
       " {'BP_close': True,\n",
       "  'BP_distance': 0.6684214678667498,\n",
       "  'BP_location': 'location 2',\n",
       "  'Private_Parking_Density': 'High Private Parking Density',\n",
       "  'Private_Parking_Spots': 115,\n",
       "  'Public_Parking_Density': 'Low Public Parking Density',\n",
       "  'Public_Parking_Spots': 18,\n",
       "  'area': 'Tenderloin',\n",
       "  'datetime': '2017-04-08 09:43',\n",
       "  'geotag': (37.7813, -122.4167),\n",
       "  'has_image': True,\n",
       "  'has_map': True,\n",
       "  'id': '6076273603',\n",
       "  'name': \"$2450 575 O'Farrell - One Bedroom (Near Business District)\",\n",
       "  'price': '$2450',\n",
       "  'url': 'http://sfbay.craigslist.org/sfc/apa/6076273603.html',\n",
       "  'where': None}]"
      ]
     },
     "execution_count": 8,
     "metadata": {},
     "output_type": "execute_result"
    }
   ],
   "source": [
    "scrape_craigslist(max_rent = max_rent, min_rent = min_rent)"
   ]
  },
  {
   "cell_type": "code",
   "execution_count": null,
   "metadata": {
    "collapsed": true
   },
   "outputs": [],
   "source": []
  }
 ],
 "metadata": {
  "kernelspec": {
   "display_name": "Python 3",
   "language": "python",
   "name": "python3"
  },
  "language_info": {
   "codemirror_mode": {
    "name": "ipython",
    "version": 3
   },
   "file_extension": ".py",
   "mimetype": "text/x-python",
   "name": "python",
   "nbconvert_exporter": "python",
   "pygments_lexer": "ipython3",
   "version": "3.5.1"
  }
 },
 "nbformat": 4,
 "nbformat_minor": 0
}
