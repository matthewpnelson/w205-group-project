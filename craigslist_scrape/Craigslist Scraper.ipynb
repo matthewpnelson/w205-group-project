{
 "cells": [
  {
   "cell_type": "markdown",
   "metadata": {},
   "source": [
    "# Craigslist Scraping Operationalization"
   ]
  },
  {
   "cell_type": "markdown",
   "metadata": {},
   "source": [
    "## Raw Data Examples"
   ]
  },
  {
   "cell_type": "markdown",
   "metadata": {},
   "source": [
    "SQL Query Results by Foreign Key 'Zip Code' for: \n",
    "\n",
    "1. Count of Businesses in Same Zip Code\n",
    "2. Count of Eviction Notices in same Zip Code ignore\n",
    "3. Count of Different Types of Schools in same Zip Code\n",
    "4. Avg Cost of Home Prices\n"
   ]
  },
  {
   "cell_type": "code",
   "execution_count": 1,
   "metadata": {
    "collapsed": true
   },
   "outputs": [],
   "source": [
    "static_evaluations_by_zip = {'businesses': {'94102': 1, '11111': 5, '94104': 10, '94105': 10 }, \n",
    "             'evictions': {'94102': 7, '11111': 4, '94104': 10, '94105': 9 },\n",
    "             'schools_k9': {'94102': 10, '11111': 5, '94104': 2, '94105': 8 },\n",
    "             'schools_hs': {'94102': 9, '11111': 6, '94104': 6, '94105': 10 },\n",
    "             'home_prices': {'94102': 8, '11111': 4, '94104': 1, '94105': 4 }}"
   ]
  },
  {
   "cell_type": "markdown",
   "metadata": {},
   "source": [
    "Raw Hive Table for each of: \n",
    "\n",
    "1. Bicycle Parking Locations\n",
    "2. Bicycle Share Locations\n",
    "3. Parking Lots / Spaces\n",
    "4. SFPD Incidents 2016\n",
    "5. Trees\n",
    "\n",
    "with GeoTag Foreign Key. "
   ]
  },
  {
   "cell_type": "code",
   "execution_count": 2,
   "metadata": {
    "collapsed": false
   },
   "outputs": [],
   "source": [
    "bike_parking = {'location 1': (37.7606289177, -122.410647009), \n",
    "                'location 2': (37.7855355791102, -122.411302813025),\n",
    "                'location 3': (37.7759676911831, -122.441396661871),\n",
    "                'location 4': (37.7518243814, -122.426627114),\n",
    "                'location 5': (37.75182438, -122.4266271)}\n",
    "\n",
    "bike_share =   {'location 1': (37.7606289177, -122.410647009), \n",
    "                'location 2': (37.7855355791102, -122.411302813025),\n",
    "                'location 3': (37.7759676911831, -122.441396661871),\n",
    "                'location 4': (37.7518243814, -122.426627114),\n",
    "                'location 5': (37.75182438, -122.4266271)}\n",
    "\n",
    "off_street_parking =      {'location 1': [\"Private\", 13, (37.7606289177, -122.410647009)], \n",
    "                'location 2': [\"Private\", 15, (37.7855355791102, -122.411302813025)],\n",
    "                'location 3': [\"Public\", 18, (37.7759676911831, -122.441396661871)],\n",
    "                'location 4': [\"Private\", 27, (37.7518243814, -122.426627114)],\n",
    "                'location 5': [\"Private\", 60, (37.75182438, -122.4266271)]}\n",
    "\n",
    "SFPD =      {'location 1': (37.7606289177, -122.410647009), \n",
    "                'location 2': (37.7855355791102, -122.411302813025),\n",
    "                'location 3': (37.7759676911831, -122.441396661871),\n",
    "                'location 4': (37.7518243814, -122.426627114),\n",
    "                'location 5': (37.75182438, -122.4266271)}\n",
    "\n",
    "trees =      {'location 1': (37.7606289177, -122.410647009), \n",
    "                'location 2': (37.7855355791102, -122.411302813025),\n",
    "                'location 3': (37.7759676911831, -122.441396661871),\n",
    "                'location 4': (37.7518243814, -122.426627114),\n",
    "                'location 5': (37.75182438, -122.4266271)}"
   ]
  },
  {
   "cell_type": "markdown",
   "metadata": {},
   "source": [
    "List of Zip Codes (delete?)"
   ]
  },
  {
   "cell_type": "code",
   "execution_count": 3,
   "metadata": {
    "collapsed": true
   },
   "outputs": [],
   "source": [
    "zipcodes = [94102,94103,94104,94105,94107,94108,94109,94110,94111,94112,94114,94115,94116,94117,94118,94119,94120,\n",
    "            94121,94122,94123,94124,94125,94126,94127,94128,94129,94130,94131,94132,94133,94134,94137,94139,94140,\n",
    "            94141,94142,94143,94144,94145,94146,94147,94151,94158,94159,94160,94161,94163,94164,94172,94177,94188]"
   ]
  },
  {
   "cell_type": "markdown",
   "metadata": {},
   "source": [
    "### Sample Inputs from User"
   ]
  },
  {
   "cell_type": "code",
   "execution_count": 4,
   "metadata": {
    "collapsed": true
   },
   "outputs": [],
   "source": [
    "max_rent = 4000\n",
    "min_rent = 1000\n",
    "category = 'apa'\n",
    "min_rank_businesses = None\n",
    "min_rank_evictions = 1\n",
    "min_rank_schools_k9 = 8\n",
    "min_rank_schools_hs = None\n",
    "min_rank_home_prices = 5\n",
    "close_to_bike_parking = \"Yes\"       # Care about close bike parking, Yes or No\n",
    "distance_to_bike_share = \"Short\"        # Short, Medium, Long\n",
    "density_of_offstreet_parking = \"Medium\"   # Low, Medium, High Density within Xkm (Select Low if you don't care)\n",
    "density_of_SFPD_Incidents = \"Low\"       # Low, Medium, High Density in 2016\n",
    "density_of_trees_100m = \"High\"          # Low, Medium, High Density within 500m"
   ]
  },
  {
   "cell_type": "markdown",
   "metadata": {},
   "source": [
    "### Sample Raw Outputs from Craigslist Scraper"
   ]
  },
  {
   "cell_type": "code",
   "execution_count": 5,
   "metadata": {
    "collapsed": true
   },
   "outputs": [],
   "source": [
    "output = {'id': '6060895324', 'has_map': True, 'price': '$1600', 'url': 'http://sfbay.craigslist.org/sfc/apa/6060895324.html',\n",
    "          'name': 'Furnished Room', 'has_image': True, 'datetime': '2017-03-26 09:33', 'where': 'nob hill', 'geotag': (37.790788, -122.419036)}\n"
   ]
  },
  {
   "cell_type": "markdown",
   "metadata": {},
   "source": [
    "# Scraper Class w/ Filters"
   ]
  },
  {
   "cell_type": "code",
   "execution_count": 6,
   "metadata": {
    "collapsed": false
   },
   "outputs": [],
   "source": [
    "def scrape_craigslist(max_rent= None, min_rent = None, cat = category):\n",
    "\n",
    "    from craigslist import CraigslistHousing\n",
    "    import filtering_functions\n",
    "    import zip_lookup\n",
    "    import neighbourhood_lookup\n",
    "    import math\n",
    "    from IPython.display import Markdown, display\n",
    "    def printmd(string):\n",
    "        display(Markdown(string))\n",
    "    \n",
    "\n",
    "    cl = CraigslistHousing(site='sfbay', area='sfc', category= cat,\n",
    "                             filters={'max_price': max_rent, 'min_price': min_rent})\n",
    "\n",
    "    results = cl.get_results(sort_by='newest', geotagged=True, limit=100) #do we need to set a reasonable limit?\n",
    "    tentative_rental = []\n",
    "    valid_rentals = []\n",
    "    for result in results:\n",
    "        print(\"Evaluating: \", result['name'], result['url'])\n",
    "        ################################################################################################\n",
    "        ### INITIALIZE RESULT\n",
    "        \n",
    "        # assign geotag if it is provided in the rental ad\n",
    "        if result['geotag'] is not None:\n",
    "            geotag = result['geotag']\n",
    "        else:\n",
    "            continue #skip for now because there is no geotag    \n",
    "        \n",
    "        zipcode = zip_lookup.zip_lookup_by_geotag(geotag)\n",
    "        tentative_rental.append(result)\n",
    "        \n",
    "        ### Get Approximate Neighbourhood by Geotag\n",
    "        if result[\"where\"] != None:\n",
    "            result[\"area\"] = result[\"where\"]\n",
    "        else:\n",
    "            result[\"area\"] = neighbourhood_lookup.neighbourhood_lookup(geotag)\n",
    "        \n",
    "        \n",
    "        ################################################################################################\n",
    "        ### APPLY FILTERS\n",
    "        \n",
    "        \n",
    "        #-----------------------------------------------------------------------------------------------\n",
    "        ## ZIPCODE BASED FILTERS\n",
    "        #-----------------------------------------------------------------------------------------------\n",
    "        \n",
    "        # # OF BUSINESSES\n",
    "        if min_rank_businesses == None:\n",
    "            pass\n",
    "        else:\n",
    "            if zipcode not in filtering_functions.check_businesses(min_rank_businesses, static_evaluations_by_zip):\n",
    "                continue #doesn't meet user criteria, go on to next result\n",
    "        \n",
    "        # NEARBY SCHOOLS\n",
    "        if min_rank_evictions == None:\n",
    "            pass\n",
    "        else:\n",
    "            if zipcode not in filtering_functions.check_evictions(min_rank_evictions, static_evaluations_by_zip):\n",
    "                continue #doesn't meet user criteria, go on to next result\n",
    "        \n",
    "        #-----------------------------------------------------------------------------------------------\n",
    "        ## DISTANCE BASED FILTERS\n",
    "        #-----------------------------------------------------------------------------------------------\n",
    "        \n",
    "        #----------------------------------\n",
    "        ## DISTANCE TO X FILTERS\n",
    "        #----------------------------------\n",
    "        \n",
    "        # BIKE PARKING (is bike parking within 20km of the rental? (huge window until we get actual locations loaded))\n",
    "        if close_to_bike_parking == \"No\":\n",
    "            pass #skip this filter, user doesn't care\n",
    "        else:\n",
    "            BP_close, BP_location, BP_distance = filtering_functions.close_to_bike_parking(geotag, bike_parking)\n",
    "            if BP_close == False:\n",
    "                continue #doesn't meet user criteria, go on to next result\n",
    "            else:\n",
    "                result[\"BP_close\"] = BP_close\n",
    "                result[\"BP_location\"] = BP_location\n",
    "                result[\"BP_distance\"] = BP_distance\n",
    "        \n",
    "        \n",
    "        #----------------------------------\n",
    "        ## DENSITY STYLE FILTERS\n",
    "        #----------------------------------\n",
    "        \n",
    "        # VEHICLE PARKING DENSITY (Initial Parking window set @ 20km, huge window until we get actual locations loaded)\n",
    "        if density_of_offstreet_parking == \"Low\":\n",
    "            pass #skip this filter, user doesn't care\n",
    "        else:\n",
    "            Public_Parking_Density, Public_Parking_Spots, Private_Parking_Density, \\\n",
    "                Private_Parking_Spots = filtering_functions.parking_density(geotag,off_street_parking)\n",
    "            if (Public_Parking_Density == \"High Public Parking Density\" or Private_Parking_Density == \"High Private Parking Density\") and density_of_offstreet_parking == \"High\":\n",
    "                result[\"Public_Parking_Density\"], result[\"Public_Parking_Spots\"], result[\"Private_Parking_Density\"], \\\n",
    "                result[\"Private_Parking_Spots\"] = filtering_functions.parking_density(geotag,off_street_parking)\n",
    "            elif (Public_Parking_Density in (\"High Public Parking Density\",\"Medium Public Parking Density\") \\\n",
    "                or Private_Parking_Density in (\"High Private Parking Density\",\"Medium Private Parking Density\")) \\\n",
    "                and density_of_offstreet_parking == \"Medium\":\n",
    "                result[\"Public_Parking_Density\"], result[\"Public_Parking_Spots\"], result[\"Private_Parking_Density\"], \\\n",
    "                result[\"Private_Parking_Spots\"] = filtering_functions.parking_density(geotag,off_street_parking)\n",
    "            else:\n",
    "                continue #doesn't meet user criteria, go on to next result\n",
    "        \n",
    "        \n",
    "        \n",
    "\n",
    "        ################################################################################################\n",
    "        # Made it to the end of the filters intact? Rental is Valid for this User's Query!\n",
    "        valid_rentals.append(result)\n",
    "        tentative_rental = [] # reset the tentative rental, continue loop\n",
    "        \n",
    "        ################################################################################################\n",
    "        ### DISPLAY VALID RESULTS\n",
    "        printmd('**-------------------VALID RESULT------------------**')\n",
    "        print(\"Area: \", result[\"area\"], \"\\n\",\n",
    "              \"Price: \", result[\"price\"], \"\\n\",\n",
    "              \"Listing Name: \", result[\"name\"], \"\\n\",\n",
    "              \"URL: \", result[\"url\"], \"\\n\",\n",
    "              \"Bike Parking (Close?, Location Name, Distance (km)): \",result[\"BP_close\"], result[\"BP_location\"], result[\"BP_distance\"], \"\\n\",\n",
    "              \"Local Public Off-Street Parking Density, # of Spots: \", result[\"Public_Parking_Density\"], result[\"Public_Parking_Spots\"], \"\\n\",\n",
    "              \"Local Private Off-Street Parking Density, # of Spots: \",result[\"Private_Parking_Density\"], result[\"Private_Parking_Spots\"])\n",
    "        printmd('**-------------------------------------------------**')\n",
    "        \n",
    "        \n",
    "    return valid_rentals\n"
   ]
  },
  {
   "cell_type": "code",
   "execution_count": 7,
   "metadata": {
    "collapsed": false
   },
   "outputs": [
    {
     "name": "stdout",
     "output_type": "stream",
     "text": [
      "Evaluating:  Leasing For Spring! 3 Weeks Free Rent, 6 Months Free Parking! http://sfbay.craigslist.org/sfc/apa/6080088197.html\n"
     ]
    },
    {
     "data": {
      "text/markdown": [
       "**-------------------VALID RESULT------------------**"
      ],
      "text/plain": [
       "<IPython.core.display.Markdown object>"
      ]
     },
     "metadata": {},
     "output_type": "display_data"
    },
    {
     "name": "stdout",
     "output_type": "stream",
     "text": [
      "Area:  SOMA / south beach \n",
      " Price:  $3420 \n",
      " Listing Name:  Leasing For Spring! 3 Weeks Free Rent, 6 Months Free Parking! \n",
      " URL:  http://sfbay.craigslist.org/sfc/apa/6080088197.html \n",
      " Bike Parking (Close?, Location Name, Distance (km)):  True location 2 1.3258665132557403 \n",
      " Local Public Off-Street Parking Density, # of Spots:  Low Public Parking Density 18 \n",
      " Local Private Off-Street Parking Density, # of Spots:  High Private Parking Density 115\n"
     ]
    },
    {
     "data": {
      "text/markdown": [
       "**-------------------------------------------------**"
      ],
      "text/plain": [
       "<IPython.core.display.Markdown object>"
      ]
     },
     "metadata": {},
     "output_type": "display_data"
    },
    {
     "name": "stdout",
     "output_type": "stream",
     "text": [
      "Evaluating:  ELLIS STREET ONE BEDROOM http://sfbay.craigslist.org/sfc/apa/6079984552.html\n",
      "Evaluating:  One of a Kind Studio Loft in Showplace Square! One Month FREE! http://sfbay.craigslist.org/sfc/apa/6080083074.html\n",
      "Evaluating:  Historic and Handsome Home with Exposed Brick - Lower Nob Hill http://sfbay.craigslist.org/sfc/apa/6080071194.html\n"
     ]
    },
    {
     "data": {
      "text/markdown": [
       "**-------------------VALID RESULT------------------**"
      ],
      "text/plain": [
       "<IPython.core.display.Markdown object>"
      ]
     },
     "metadata": {},
     "output_type": "display_data"
    },
    {
     "name": "stdout",
     "output_type": "stream",
     "text": [
      "Area:  lower nob hill \n",
      " Price:  $2395 \n",
      " Listing Name:  Historic and Handsome Home with Exposed Brick - Lower Nob Hill \n",
      " URL:  http://sfbay.craigslist.org/sfc/apa/6080071194.html \n",
      " Bike Parking (Close?, Location Name, Distance (km)):  True location 2 0.6729616185043035 \n",
      " Local Public Off-Street Parking Density, # of Spots:  Low Public Parking Density 18 \n",
      " Local Private Off-Street Parking Density, # of Spots:  High Private Parking Density 115\n"
     ]
    },
    {
     "data": {
      "text/markdown": [
       "**-------------------------------------------------**"
      ],
      "text/plain": [
       "<IPython.core.display.Markdown object>"
      ]
     },
     "metadata": {},
     "output_type": "display_data"
    },
    {
     "name": "stdout",
     "output_type": "stream",
     "text": [
      "Evaluating:  Commuter's Dream http://sfbay.craigslist.org/sfc/apa/6080077255.html\n"
     ]
    },
    {
     "data": {
      "text/markdown": [
       "**-------------------VALID RESULT------------------**"
      ],
      "text/plain": [
       "<IPython.core.display.Markdown object>"
      ]
     },
     "metadata": {},
     "output_type": "display_data"
    },
    {
     "name": "stdout",
     "output_type": "stream",
     "text": [
      "Area:  lower nob hill \n",
      " Price:  $2664 \n",
      " Listing Name:  Commuter's Dream \n",
      " URL:  http://sfbay.craigslist.org/sfc/apa/6080077255.html \n",
      " Bike Parking (Close?, Location Name, Distance (km)):  True location 2 0.7824807331771406 \n",
      " Local Public Off-Street Parking Density, # of Spots:  Low Public Parking Density 18 \n",
      " Local Private Off-Street Parking Density, # of Spots:  High Private Parking Density 115\n"
     ]
    },
    {
     "data": {
      "text/markdown": [
       "**-------------------------------------------------**"
      ],
      "text/plain": [
       "<IPython.core.display.Markdown object>"
      ]
     },
     "metadata": {},
     "output_type": "display_data"
    },
    {
     "name": "stdout",
     "output_type": "stream",
     "text": [
      "Evaluating:  NEW TO THE CITY! BRAND NEW 2BR AT THE CIVIC! TOUR TODAY! http://sfbay.craigslist.org/sfc/apa/6080075693.html\n"
     ]
    },
    {
     "data": {
      "text/markdown": [
       "**-------------------VALID RESULT------------------**"
      ],
      "text/plain": [
       "<IPython.core.display.Markdown object>"
      ]
     },
     "metadata": {},
     "output_type": "display_data"
    },
    {
     "name": "stdout",
     "output_type": "stream",
     "text": [
      "Area:  hayes valley \n",
      " Price:  $3850 \n",
      " Listing Name:  NEW TO THE CITY! BRAND NEW 2BR AT THE CIVIC! TOUR TODAY! \n",
      " URL:  http://sfbay.craigslist.org/sfc/apa/6080075693.html \n",
      " Bike Parking (Close?, Location Name, Distance (km)):  True location 2 1.07091784808219 \n",
      " Local Public Off-Street Parking Density, # of Spots:  Low Public Parking Density 18 \n",
      " Local Private Off-Street Parking Density, # of Spots:  High Private Parking Density 115\n"
     ]
    },
    {
     "data": {
      "text/markdown": [
       "**-------------------------------------------------**"
      ],
      "text/plain": [
       "<IPython.core.display.Markdown object>"
      ]
     },
     "metadata": {},
     "output_type": "display_data"
    },
    {
     "name": "stdout",
     "output_type": "stream",
     "text": [
      "Evaluating:  Open house today & tomorrow 1 bedroom/1bath http://sfbay.craigslist.org/sfc/apa/6079711499.html\n",
      "Evaluating:  Furnished home with VIEWS, Summer rental 2bd/3ba+office ~ J.Wavro http://sfbay.craigslist.org/sfc/apa/6080072944.html\n",
      "Evaluating:  COME TOUR THIS AMAZING 1BR APARTMENT AT THE CIVIC TODAY!! http://sfbay.craigslist.org/sfc/apa/6080071250.html\n"
     ]
    },
    {
     "data": {
      "text/markdown": [
       "**-------------------VALID RESULT------------------**"
      ],
      "text/plain": [
       "<IPython.core.display.Markdown object>"
      ]
     },
     "metadata": {},
     "output_type": "display_data"
    },
    {
     "name": "stdout",
     "output_type": "stream",
     "text": [
      "Area:  hayes valley \n",
      " Price:  $3071 \n",
      " Listing Name:  COME TOUR THIS AMAZING 1BR APARTMENT AT THE CIVIC TODAY!! \n",
      " URL:  http://sfbay.craigslist.org/sfc/apa/6080071250.html \n",
      " Bike Parking (Close?, Location Name, Distance (km)):  True location 2 1.07091784808219 \n",
      " Local Public Off-Street Parking Density, # of Spots:  Low Public Parking Density 18 \n",
      " Local Private Off-Street Parking Density, # of Spots:  High Private Parking Density 115\n"
     ]
    },
    {
     "data": {
      "text/markdown": [
       "**-------------------------------------------------**"
      ],
      "text/plain": [
       "<IPython.core.display.Markdown object>"
      ]
     },
     "metadata": {},
     "output_type": "display_data"
    },
    {
     "name": "stdout",
     "output_type": "stream",
     "text": [
      "Evaluating:  A New Wave of Living http://sfbay.craigslist.org/sfc/apa/6080070919.html\n"
     ]
    },
    {
     "data": {
      "text/markdown": [
       "**-------------------VALID RESULT------------------**"
      ],
      "text/plain": [
       "<IPython.core.display.Markdown object>"
      ]
     },
     "metadata": {},
     "output_type": "display_data"
    },
    {
     "name": "stdout",
     "output_type": "stream",
     "text": [
      "Area:  lower nob hill \n",
      " Price:  $3237 \n",
      " Listing Name:  A New Wave of Living \n",
      " URL:  http://sfbay.craigslist.org/sfc/apa/6080070919.html \n",
      " Bike Parking (Close?, Location Name, Distance (km)):  True location 2 0.2518861517443259 \n",
      " Local Public Off-Street Parking Density, # of Spots:  Low Public Parking Density 18 \n",
      " Local Private Off-Street Parking Density, # of Spots:  High Private Parking Density 115\n"
     ]
    },
    {
     "data": {
      "text/markdown": [
       "**-------------------------------------------------**"
      ],
      "text/plain": [
       "<IPython.core.display.Markdown object>"
      ]
     },
     "metadata": {},
     "output_type": "display_data"
    },
    {
     "name": "stdout",
     "output_type": "stream",
     "text": [
      "Evaluating:  One Bedroom with Washer/Dryer- Prime Location-Rent Controlled http://sfbay.craigslist.org/sfc/apa/6080069868.html\n",
      "Evaluating:  AMAZING NEW 1BR!! DON'T MISS YOUR CHANCE TO RENT AT THE CIVIC!!! http://sfbay.craigslist.org/sfc/apa/6080069149.html\n"
     ]
    },
    {
     "data": {
      "text/markdown": [
       "**-------------------VALID RESULT------------------**"
      ],
      "text/plain": [
       "<IPython.core.display.Markdown object>"
      ]
     },
     "metadata": {},
     "output_type": "display_data"
    },
    {
     "name": "stdout",
     "output_type": "stream",
     "text": [
      "Area:  hayes valley \n",
      " Price:  $3600 \n",
      " Listing Name:  AMAZING NEW 1BR!! DON'T MISS YOUR CHANCE TO RENT AT THE CIVIC!!! \n",
      " URL:  http://sfbay.craigslist.org/sfc/apa/6080069149.html \n",
      " Bike Parking (Close?, Location Name, Distance (km)):  True location 2 1.07091784808219 \n",
      " Local Public Off-Street Parking Density, # of Spots:  Low Public Parking Density 18 \n",
      " Local Private Off-Street Parking Density, # of Spots:  High Private Parking Density 115\n"
     ]
    },
    {
     "data": {
      "text/markdown": [
       "**-------------------------------------------------**"
      ],
      "text/plain": [
       "<IPython.core.display.Markdown object>"
      ]
     },
     "metadata": {},
     "output_type": "display_data"
    },
    {
     "name": "stdout",
     "output_type": "stream",
     "text": [
      "Evaluating:  Junior 1 bedroom, 1 bath, In-law - 223c http://sfbay.craigslist.org/sfc/apa/6080058106.html\n"
     ]
    },
    {
     "data": {
      "text/markdown": [
       "**-------------------VALID RESULT------------------**"
      ],
      "text/plain": [
       "<IPython.core.display.Markdown object>"
      ]
     },
     "metadata": {},
     "output_type": "display_data"
    },
    {
     "name": "stdout",
     "output_type": "stream",
     "text": [
      "Area:  hayes valley \n",
      " Price:  $3000 \n",
      " Listing Name:  Junior 1 bedroom, 1 bath, In-law - 223c \n",
      " URL:  http://sfbay.craigslist.org/sfc/apa/6080058106.html \n",
      " Bike Parking (Close?, Location Name, Distance (km)):  True location 3 1.495442251237609 \n",
      " Local Public Off-Street Parking Density, # of Spots:  Low Public Parking Density 18 \n",
      " Local Private Off-Street Parking Density, # of Spots:  High Private Parking Density 115\n"
     ]
    },
    {
     "data": {
      "text/markdown": [
       "**-------------------------------------------------**"
      ],
      "text/plain": [
       "<IPython.core.display.Markdown object>"
      ]
     },
     "metadata": {},
     "output_type": "display_data"
    },
    {
     "name": "stdout",
     "output_type": "stream",
     "text": [
      "Evaluating:  Spacious studio with gorgeous view http://sfbay.craigslist.org/sfc/apa/6080048001.html\n",
      "Evaluating:  SPECTACULAR 1 BEDROOM WITH LUXURY FEATURES! TOUR THE CIVIC TODAY! http://sfbay.craigslist.org/sfc/apa/6080066538.html\n"
     ]
    },
    {
     "data": {
      "text/markdown": [
       "**-------------------VALID RESULT------------------**"
      ],
      "text/plain": [
       "<IPython.core.display.Markdown object>"
      ]
     },
     "metadata": {},
     "output_type": "display_data"
    },
    {
     "name": "stdout",
     "output_type": "stream",
     "text": [
      "Area:  hayes valley \n",
      " Price:  $3800 \n",
      " Listing Name:  SPECTACULAR 1 BEDROOM WITH LUXURY FEATURES! TOUR THE CIVIC TODAY! \n",
      " URL:  http://sfbay.craigslist.org/sfc/apa/6080066538.html \n",
      " Bike Parking (Close?, Location Name, Distance (km)):  True location 2 1.07091784808219 \n",
      " Local Public Off-Street Parking Density, # of Spots:  Low Public Parking Density 18 \n",
      " Local Private Off-Street Parking Density, # of Spots:  High Private Parking Density 115\n"
     ]
    },
    {
     "data": {
      "text/markdown": [
       "**-------------------------------------------------**"
      ],
      "text/plain": [
       "<IPython.core.display.Markdown object>"
      ]
     },
     "metadata": {},
     "output_type": "display_data"
    },
    {
     "name": "stdout",
     "output_type": "stream",
     "text": [
      "Evaluating:  Overlook Golden Gate Park in Your 5-star Apartment http://sfbay.craigslist.org/sfc/apa/6080053097.html\n",
      "Evaluating:  SoMa Micro-Studio w Murphy Bed + Free Storage!!! http://sfbay.craigslist.org/sfc/apa/6080059774.html\n",
      "Evaluating:  COME TOUR THIS AMAZING 1BR APARTMENT AT THE CIVIC TODAY!! http://sfbay.craigslist.org/sfc/apa/6080053644.html\n"
     ]
    },
    {
     "data": {
      "text/markdown": [
       "**-------------------VALID RESULT------------------**"
      ],
      "text/plain": [
       "<IPython.core.display.Markdown object>"
      ]
     },
     "metadata": {},
     "output_type": "display_data"
    },
    {
     "name": "stdout",
     "output_type": "stream",
     "text": [
      "Area:  hayes valley \n",
      " Price:  $3700 \n",
      " Listing Name:  COME TOUR THIS AMAZING 1BR APARTMENT AT THE CIVIC TODAY!! \n",
      " URL:  http://sfbay.craigslist.org/sfc/apa/6080053644.html \n",
      " Bike Parking (Close?, Location Name, Distance (km)):  True location 2 1.07091784808219 \n",
      " Local Public Off-Street Parking Density, # of Spots:  Low Public Parking Density 18 \n",
      " Local Private Off-Street Parking Density, # of Spots:  High Private Parking Density 115\n"
     ]
    },
    {
     "data": {
      "text/markdown": [
       "**-------------------------------------------------**"
      ],
      "text/plain": [
       "<IPython.core.display.Markdown object>"
      ]
     },
     "metadata": {},
     "output_type": "display_data"
    },
    {
     "name": "stdout",
     "output_type": "stream",
     "text": [
      "Evaluating:  One bedroom in Ofarrell Street. http://sfbay.craigslist.org/sfc/apa/6079971604.html\n",
      "Evaluating:  Step Outside, You're There - Central Downtown Hot Spot http://sfbay.craigslist.org/sfc/apa/6080008416.html\n"
     ]
    },
    {
     "data": {
      "text/markdown": [
       "**-------------------VALID RESULT------------------**"
      ],
      "text/plain": [
       "<IPython.core.display.Markdown object>"
      ]
     },
     "metadata": {},
     "output_type": "display_data"
    },
    {
     "name": "stdout",
     "output_type": "stream",
     "text": [
      "Area:  downtown / civic / van ness \n",
      " Price:  $2195 \n",
      " Listing Name:  Step Outside, You're There - Central Downtown Hot Spot \n",
      " URL:  http://sfbay.craigslist.org/sfc/apa/6080008416.html \n",
      " Bike Parking (Close?, Location Name, Distance (km)):  True location 2 0.3086397416373347 \n",
      " Local Public Off-Street Parking Density, # of Spots:  Low Public Parking Density 18 \n",
      " Local Private Off-Street Parking Density, # of Spots:  High Private Parking Density 115\n"
     ]
    },
    {
     "data": {
      "text/markdown": [
       "**-------------------------------------------------**"
      ],
      "text/plain": [
       "<IPython.core.display.Markdown object>"
      ]
     },
     "metadata": {},
     "output_type": "display_data"
    },
    {
     "name": "stdout",
     "output_type": "stream",
     "text": [
      "Evaluating:  Come Look and Lease, Rooftop Deck with Views, High End Finishes http://sfbay.craigslist.org/sfc/apa/6080037429.html\n",
      "Evaluating:  SF Monterey Heights Master Suite Studio for Rent http://sfbay.craigslist.org/sfc/apa/6080036156.html\n",
      "Evaluating:  Leasing Now, Near Japantown, Laundy Care Center http://sfbay.craigslist.org/sfc/apa/6080033316.html\n",
      "Evaluating:  One bedroom in Berry Street. http://sfbay.craigslist.org/sfc/apa/6079998014.html\n",
      "Evaluating:  Suitcase Ready-Polk St./ Hayes Valley-w/d-Parking-Modern-Inclusive.! http://sfbay.craigslist.org/sfc/apa/6080010853.html\n"
     ]
    },
    {
     "data": {
      "text/markdown": [
       "**-------------------VALID RESULT------------------**"
      ],
      "text/plain": [
       "<IPython.core.display.Markdown object>"
      ]
     },
     "metadata": {},
     "output_type": "display_data"
    },
    {
     "name": "stdout",
     "output_type": "stream",
     "text": [
      "Area:  downtown / civic / van ness \n",
      " Price:  $2675 \n",
      " Listing Name:  Suitcase Ready-Polk St./ Hayes Valley-w/d-Parking-Modern-Inclusive.! \n",
      " URL:  http://sfbay.craigslist.org/sfc/apa/6080010853.html \n",
      " Bike Parking (Close?, Location Name, Distance (km)):  True location 2 0.8969068036151644 \n",
      " Local Public Off-Street Parking Density, # of Spots:  Low Public Parking Density 18 \n",
      " Local Private Off-Street Parking Density, # of Spots:  High Private Parking Density 115\n"
     ]
    },
    {
     "data": {
      "text/markdown": [
       "**-------------------------------------------------**"
      ],
      "text/plain": [
       "<IPython.core.display.Markdown object>"
      ]
     },
     "metadata": {},
     "output_type": "display_data"
    },
    {
     "name": "stdout",
     "output_type": "stream",
     "text": [
      "Evaluating:  Junior Two Bedroom, downtwn, newly renovated, eat-in kitchen http://sfbay.craigslist.org/sfc/apa/6080018412.html\n"
     ]
    },
    {
     "data": {
      "text/markdown": [
       "**-------------------VALID RESULT------------------**"
      ],
      "text/plain": [
       "<IPython.core.display.Markdown object>"
      ]
     },
     "metadata": {},
     "output_type": "display_data"
    },
    {
     "name": "stdout",
     "output_type": "stream",
     "text": [
      "Area:  downtown / civic / van ness \n",
      " Price:  $3195 \n",
      " Listing Name:  Junior Two Bedroom, downtwn, newly renovated, eat-in kitchen \n",
      " URL:  http://sfbay.craigslist.org/sfc/apa/6080018412.html \n",
      " Bike Parking (Close?, Location Name, Distance (km)):  True location 2 0.46036186068735435 \n",
      " Local Public Off-Street Parking Density, # of Spots:  Low Public Parking Density 18 \n",
      " Local Private Off-Street Parking Density, # of Spots:  High Private Parking Density 115\n"
     ]
    },
    {
     "data": {
      "text/markdown": [
       "**-------------------------------------------------**"
      ],
      "text/plain": [
       "<IPython.core.display.Markdown object>"
      ]
     },
     "metadata": {},
     "output_type": "display_data"
    },
    {
     "name": "stdout",
     "output_type": "stream",
     "text": [
      "Evaluating:  Polk & Post/Available Now/Pets Ok/Pay $0 Deposit!First Month Free!! http://sfbay.craigslist.org/sfc/apa/6080017697.html\n"
     ]
    },
    {
     "data": {
      "text/markdown": [
       "**-------------------VALID RESULT------------------**"
      ],
      "text/plain": [
       "<IPython.core.display.Markdown object>"
      ]
     },
     "metadata": {},
     "output_type": "display_data"
    },
    {
     "name": "stdout",
     "output_type": "stream",
     "text": [
      "Area:  lower nob hill \n",
      " Price:  $2695 \n",
      " Listing Name:  Polk & Post/Available Now/Pets Ok/Pay $0 Deposit!First Month Free!! \n",
      " URL:  http://sfbay.craigslist.org/sfc/apa/6080017697.html \n",
      " Bike Parking (Close?, Location Name, Distance (km)):  True location 2 0.7460762095195254 \n",
      " Local Public Off-Street Parking Density, # of Spots:  Low Public Parking Density 18 \n",
      " Local Private Off-Street Parking Density, # of Spots:  High Private Parking Density 115\n"
     ]
    },
    {
     "data": {
      "text/markdown": [
       "**-------------------------------------------------**"
      ],
      "text/plain": [
       "<IPython.core.display.Markdown object>"
      ]
     },
     "metadata": {},
     "output_type": "display_data"
    },
    {
     "name": "stdout",
     "output_type": "stream",
     "text": [
      "Evaluating:  See today*hardwood*sunny**nrAAU,SFAI,Remodeled! http://sfbay.craigslist.org/sfc/apa/6080013313.html\n"
     ]
    },
    {
     "data": {
      "text/markdown": [
       "**-------------------VALID RESULT------------------**"
      ],
      "text/plain": [
       "<IPython.core.display.Markdown object>"
      ]
     },
     "metadata": {},
     "output_type": "display_data"
    },
    {
     "name": "stdout",
     "output_type": "stream",
     "text": [
      "Area:  downtown / civic / van ness \n",
      " Price:  $1395 \n",
      " Listing Name:  See today*hardwood*sunny**nrAAU,SFAI,Remodeled! \n",
      " URL:  http://sfbay.craigslist.org/sfc/apa/6080013313.html \n",
      " Bike Parking (Close?, Location Name, Distance (km)):  True location 2 0.6684214678667498 \n",
      " Local Public Off-Street Parking Density, # of Spots:  Low Public Parking Density 18 \n",
      " Local Private Off-Street Parking Density, # of Spots:  High Private Parking Density 115\n"
     ]
    },
    {
     "data": {
      "text/markdown": [
       "**-------------------------------------------------**"
      ],
      "text/plain": [
       "<IPython.core.display.Markdown object>"
      ]
     },
     "metadata": {},
     "output_type": "display_data"
    },
    {
     "name": "stdout",
     "output_type": "stream",
     "text": [
      "Evaluating:  1bed/2bath W Den 1100 sqft  *Scott Russell AMSI* http://sfbay.craigslist.org/sfc/apa/6072420199.html\n"
     ]
    },
    {
     "data": {
      "text/markdown": [
       "**-------------------VALID RESULT------------------**"
      ],
      "text/plain": [
       "<IPython.core.display.Markdown object>"
      ]
     },
     "metadata": {},
     "output_type": "display_data"
    },
    {
     "name": "stdout",
     "output_type": "stream",
     "text": [
      "Area:  lower pac hts \n",
      " Price:  $3650 \n",
      " Listing Name:  1bed/2bath W Den 1100 sqft  *Scott Russell AMSI* \n",
      " URL:  http://sfbay.craigslist.org/sfc/apa/6072420199.html \n",
      " Bike Parking (Close?, Location Name, Distance (km)):  True location 2 1.1811357516597503 \n",
      " Local Public Off-Street Parking Density, # of Spots:  Low Public Parking Density 18 \n",
      " Local Private Off-Street Parking Density, # of Spots:  High Private Parking Density 115\n"
     ]
    },
    {
     "data": {
      "text/markdown": [
       "**-------------------------------------------------**"
      ],
      "text/plain": [
       "<IPython.core.display.Markdown object>"
      ]
     },
     "metadata": {},
     "output_type": "display_data"
    },
    {
     "name": "stdout",
     "output_type": "stream",
     "text": [
      "Evaluating:  1333 Gough Street  *Scott Russell Jr* http://sfbay.craigslist.org/sfc/apa/6063879103.html\n",
      "Evaluating:  New Boutique Luxury Community!Large Private Yards! 12 miles from SF http://sfbay.craigslist.org/sfc/apa/6079994645.html\n",
      "Evaluating:  24/7 Doorman Building *Scott Russell Jr* http://sfbay.craigslist.org/sfc/apa/6063875967.html\n",
      "Evaluating:  24/7 Doorman 2bed/2bath *Scott Russell jr.* http://sfbay.craigslist.org/sfc/apa/6063909160.html\n",
      "Evaluating:  530 Large remodeled*hardwood floors*sunny http://sfbay.craigslist.org/sfc/apa/6080008293.html\n"
     ]
    },
    {
     "data": {
      "text/markdown": [
       "**-------------------VALID RESULT------------------**"
      ],
      "text/plain": [
       "<IPython.core.display.Markdown object>"
      ]
     },
     "metadata": {},
     "output_type": "display_data"
    },
    {
     "name": "stdout",
     "output_type": "stream",
     "text": [
      "Area:  downtown / civic / van ness \n",
      " Price:  $1795 \n",
      " Listing Name:  530 Large remodeled*hardwood floors*sunny \n",
      " URL:  http://sfbay.craigslist.org/sfc/apa/6080008293.html \n",
      " Bike Parking (Close?, Location Name, Distance (km)):  True location 2 0.6004726131421273 \n",
      " Local Public Off-Street Parking Density, # of Spots:  Low Public Parking Density 18 \n",
      " Local Private Off-Street Parking Density, # of Spots:  High Private Parking Density 115\n"
     ]
    },
    {
     "data": {
      "text/markdown": [
       "**-------------------------------------------------**"
      ],
      "text/plain": [
       "<IPython.core.display.Markdown object>"
      ]
     },
     "metadata": {},
     "output_type": "display_data"
    },
    {
     "name": "stdout",
     "output_type": "stream",
     "text": [
      "Evaluating:  Sunny, Large 3 Bdr/1 Bath Apartment http://sfbay.craigslist.org/sfc/apa/6080006139.html\n",
      "Evaluating:  Marina District.......backyard.......new kitchen, dishwasher, flooring http://sfbay.craigslist.org/sfc/apa/6063755287.html\n",
      "Evaluating:  1BD/1BA ......garden unit on huge backyard ......all new kitchen http://sfbay.craigslist.org/sfc/apa/6070626678.html\n",
      "Evaluating:  Sunny, Light-Filled Peaceful Furnished Studio Parking & Storae http://sfbay.craigslist.org/sfc/apa/6062971165.html\n",
      "Evaluating:  Interior Studio with Large Patio! http://sfbay.craigslist.org/sfc/apa/6079999474.html\n",
      "Evaluating:  RENOVATED,  DOWNTOWN VIEW,  FIRPLACE, PARKING  (optional) http://sfbay.craigslist.org/sfc/apa/6079983506.html\n",
      "Evaluating:  Large and Bright 3BD/2BA Apartment #104 with Master bedroom http://sfbay.craigslist.org/sfc/apa/6079990513.html\n",
      "Evaluating:  Your own private WING (2 rooms & 1 bathroom) MUST SEE! http://sfbay.craigslist.org/sfc/apa/6079990134.html\n",
      "Evaluating:  ONE BEDROOM IN FOLSOM STREET http://sfbay.craigslist.org/sfc/apa/6079933115.html\n",
      "Evaluating:  New Boutique Luxury Community in Corte Madera! 12 Miles from SF! http://sfbay.craigslist.org/sfc/apa/6079967699.html\n",
      "Evaluating:  2BD 1BA in 1920's Art Deco Building, Utilities Included, Pets OK http://sfbay.craigslist.org/sfc/apa/6079984517.html\n"
     ]
    },
    {
     "data": {
      "text/markdown": [
       "**-------------------VALID RESULT------------------**"
      ],
      "text/plain": [
       "<IPython.core.display.Markdown object>"
      ]
     },
     "metadata": {},
     "output_type": "display_data"
    },
    {
     "name": "stdout",
     "output_type": "stream",
     "text": [
      "Area:  downtown / civic / van ness \n",
      " Price:  $3495 \n",
      " Listing Name:  2BD 1BA in 1920's Art Deco Building, Utilities Included, Pets OK \n",
      " URL:  http://sfbay.craigslist.org/sfc/apa/6079984517.html \n",
      " Bike Parking (Close?, Location Name, Distance (km)):  True location 2 0.33302261907142683 \n",
      " Local Public Off-Street Parking Density, # of Spots:  Low Public Parking Density 18 \n",
      " Local Private Off-Street Parking Density, # of Spots:  High Private Parking Density 115\n"
     ]
    },
    {
     "data": {
      "text/markdown": [
       "**-------------------------------------------------**"
      ],
      "text/plain": [
       "<IPython.core.display.Markdown object>"
      ]
     },
     "metadata": {},
     "output_type": "display_data"
    },
    {
     "name": "stdout",
     "output_type": "stream",
     "text": [
      "Evaluating:  1bdrm. apt. #3 http://sfbay.craigslist.org/sfc/apa/6079983770.html\n",
      "Evaluating:  Spacious Studio with Large Closet and Hardwood Floors http://sfbay.craigslist.org/sfc/apa/6079979398.html\n",
      "Evaluating:  Newly remodeled 2-bdrm with big patio in Mission/Bernal http://sfbay.craigslist.org/sfc/apa/6079978014.html\n",
      "Evaluating:  Gorgeous Junior 1 bedroom! Rent Control! Reduced Rents! http://sfbay.craigslist.org/sfc/apa/6079977303.html\n",
      "Evaluating:  Ridiculously Easy Commute to Everywhere and Gym on Ground Floor! http://sfbay.craigslist.org/sfc/apa/6079969018.html\n",
      "Evaluating:  Move-In Ready 1 Bedroom 1 Bath Apartment w/ Den! http://sfbay.craigslist.org/sfc/apa/6079960332.html\n"
     ]
    },
    {
     "data": {
      "text/markdown": [
       "**-------------------VALID RESULT------------------**"
      ],
      "text/plain": [
       "<IPython.core.display.Markdown object>"
      ]
     },
     "metadata": {},
     "output_type": "display_data"
    },
    {
     "name": "stdout",
     "output_type": "stream",
     "text": [
      "Area:  SOMA / south beach \n",
      " Price:  $3299 \n",
      " Listing Name:  Move-In Ready 1 Bedroom 1 Bath Apartment w/ Den! \n",
      " URL:  http://sfbay.craigslist.org/sfc/apa/6079960332.html \n",
      " Bike Parking (Close?, Location Name, Distance (km)):  True location 2 0.8297383284143433 \n",
      " Local Public Off-Street Parking Density, # of Spots:  Low Public Parking Density 18 \n",
      " Local Private Off-Street Parking Density, # of Spots:  High Private Parking Density 115\n"
     ]
    },
    {
     "data": {
      "text/markdown": [
       "**-------------------------------------------------**"
      ],
      "text/plain": [
       "<IPython.core.display.Markdown object>"
      ]
     },
     "metadata": {},
     "output_type": "display_data"
    },
    {
     "name": "stdout",
     "output_type": "stream",
     "text": [
      "Evaluating:  Charming 1BD/1BA Unit with Western View on Fillmore Street http://sfbay.craigslist.org/sfc/apa/6060911021.html\n",
      "Evaluating:  Fully remodeled, spacious with all the amenities and PARKING! http://sfbay.craigslist.org/sfc/apa/6073011522.html\n",
      "Evaluating:  INVITING SOUTH BEACH CONDO http://sfbay.craigslist.org/sfc/apa/6040663384.html\n"
     ]
    },
    {
     "data": {
      "text/markdown": [
       "**-------------------VALID RESULT------------------**"
      ],
      "text/plain": [
       "<IPython.core.display.Markdown object>"
      ]
     },
     "metadata": {},
     "output_type": "display_data"
    },
    {
     "name": "stdout",
     "output_type": "stream",
     "text": [
      "Area:  SOMA / south beach \n",
      " Price:  $4000 \n",
      " Listing Name:  INVITING SOUTH BEACH CONDO \n",
      " URL:  http://sfbay.craigslist.org/sfc/apa/6040663384.html \n",
      " Bike Parking (Close?, Location Name, Distance (km)):  True location 2 1.9447259912603478 \n",
      " Local Public Off-Street Parking Density, # of Spots:  Low Public Parking Density 18 \n",
      " Local Private Off-Street Parking Density, # of Spots:  High Private Parking Density 115\n"
     ]
    },
    {
     "data": {
      "text/markdown": [
       "**-------------------------------------------------**"
      ],
      "text/plain": [
       "<IPython.core.display.Markdown object>"
      ]
     },
     "metadata": {},
     "output_type": "display_data"
    },
    {
     "name": "stdout",
     "output_type": "stream",
     "text": [
      "Evaluating:  2Bdrm 2Bath Apt ready for Immediate Move-in, GREAT prices, CALL NOW! http://sfbay.craigslist.org/sfc/apa/6079966424.html\n",
      "Evaluating:  apartment http://sfbay.craigslist.org/sfc/apa/6079964548.html\n",
      "Evaluating:  Massive Kitchen w/Bar And Unlimited Natural Light In This 2-Bed 2-Bath http://sfbay.craigslist.org/sfc/apa/6079958822.html\n",
      "Evaluating:  Great Deal on this Spacious Studio in a Luxury Community! http://sfbay.craigslist.org/sfc/apa/6079957074.html\n"
     ]
    },
    {
     "data": {
      "text/markdown": [
       "**-------------------VALID RESULT------------------**"
      ],
      "text/plain": [
       "<IPython.core.display.Markdown object>"
      ]
     },
     "metadata": {},
     "output_type": "display_data"
    },
    {
     "name": "stdout",
     "output_type": "stream",
     "text": [
      "Area:  financial district \n",
      " Price:  $3195 \n",
      " Listing Name:  Great Deal on this Spacious Studio in a Luxury Community! \n",
      " URL:  http://sfbay.craigslist.org/sfc/apa/6079957074.html \n",
      " Bike Parking (Close?, Location Name, Distance (km)):  True location 2 1.7534478268892728 \n",
      " Local Public Off-Street Parking Density, # of Spots:  Low Public Parking Density 18 \n",
      " Local Private Off-Street Parking Density, # of Spots:  High Private Parking Density 115\n"
     ]
    },
    {
     "data": {
      "text/markdown": [
       "**-------------------------------------------------**"
      ],
      "text/plain": [
       "<IPython.core.display.Markdown object>"
      ]
     },
     "metadata": {},
     "output_type": "display_data"
    },
    {
     "name": "stdout",
     "output_type": "stream",
     "text": [
      "Evaluating:  One Bedroom w/ Balcony- Prime Location- Rent Controlled http://sfbay.craigslist.org/sfc/apa/6079956573.html\n",
      "Evaluating:  1x1 available at DUBOCE Apartments- 2 WEEKS FREE!!! http://sfbay.craigslist.org/sfc/apa/6079952752.html\n",
      "Evaluating:  Top floor Vintage 1929 junior 1 bedroom with Views! http://sfbay.craigslist.org/sfc/apa/6045516498.html\n",
      "Evaluating:  Charming, beautifully maintained 1927 Excelsior 2 bedrm House! http://sfbay.craigslist.org/sfc/apa/6072389105.html\n",
      "Evaluating:  Beautiful Sunny 2BR+1Ba Top Story Flat w/ Views http://sfbay.craigslist.org/sfc/apa/6077166604.html\n",
      "Evaluating:  Downtown Stunner: Hardwood Floors, Tons of Space & Windows http://sfbay.craigslist.org/sfc/apa/6079925560.html\n",
      "Evaluating:  Great price. Great people! http://sfbay.craigslist.org/sfc/apa/6064410144.html\n"
     ]
    },
    {
     "data": {
      "text/markdown": [
       "**-------------------VALID RESULT------------------**"
      ],
      "text/plain": [
       "<IPython.core.display.Markdown object>"
      ]
     },
     "metadata": {},
     "output_type": "display_data"
    },
    {
     "name": "stdout",
     "output_type": "stream",
     "text": [
      "Area:  SOMA / south beach \n",
      " Price:  $1500 \n",
      " Listing Name:  Great price. Great people! \n",
      " URL:  http://sfbay.craigslist.org/sfc/apa/6064410144.html \n",
      " Bike Parking (Close?, Location Name, Distance (km)):  True location 2 0.7403120087901159 \n",
      " Local Public Off-Street Parking Density, # of Spots:  Low Public Parking Density 18 \n",
      " Local Private Off-Street Parking Density, # of Spots:  High Private Parking Density 115\n"
     ]
    },
    {
     "data": {
      "text/markdown": [
       "**-------------------------------------------------**"
      ],
      "text/plain": [
       "<IPython.core.display.Markdown object>"
      ]
     },
     "metadata": {},
     "output_type": "display_data"
    },
    {
     "name": "stdout",
     "output_type": "stream",
     "text": [
      "Evaluating:  Furnished Studio Apartment in SOMA for 2-4 months http://sfbay.craigslist.org/sfc/apa/6077218188.html\n",
      "Evaluating:  Move in Ready! JR One Bedroom at 1188 Mission for $2499! http://sfbay.craigslist.org/sfc/apa/6079943792.html\n"
     ]
    },
    {
     "data": {
      "text/markdown": [
       "**-------------------VALID RESULT------------------**"
      ],
      "text/plain": [
       "<IPython.core.display.Markdown object>"
      ]
     },
     "metadata": {},
     "output_type": "display_data"
    },
    {
     "name": "stdout",
     "output_type": "stream",
     "text": [
      "Area:  SOMA / south beach \n",
      " Price:  $2499 \n",
      " Listing Name:  Move in Ready! JR One Bedroom at 1188 Mission for $2499! \n",
      " URL:  http://sfbay.craigslist.org/sfc/apa/6079943792.html \n",
      " Bike Parking (Close?, Location Name, Distance (km)):  True location 2 0.8260468247792232 \n",
      " Local Public Off-Street Parking Density, # of Spots:  Low Public Parking Density 18 \n",
      " Local Private Off-Street Parking Density, # of Spots:  High Private Parking Density 115\n"
     ]
    },
    {
     "data": {
      "text/markdown": [
       "**-------------------------------------------------**"
      ],
      "text/plain": [
       "<IPython.core.display.Markdown object>"
      ]
     },
     "metadata": {},
     "output_type": "display_data"
    },
    {
     "name": "stdout",
     "output_type": "stream",
     "text": [
      "Evaluating:  JESSIE STREET ONE BEDROOM UNIT http://sfbay.craigslist.org/sfc/apa/6079907590.html\n",
      "Evaluating:  Spacious, Secure Studio in Civic Center http://sfbay.craigslist.org/sfc/apa/6062428913.html\n"
     ]
    },
    {
     "data": {
      "text/markdown": [
       "**-------------------VALID RESULT------------------**"
      ],
      "text/plain": [
       "<IPython.core.display.Markdown object>"
      ]
     },
     "metadata": {},
     "output_type": "display_data"
    },
    {
     "name": "stdout",
     "output_type": "stream",
     "text": [
      "Area:  downtown / civic / van ness \n",
      " Price:  $2500 \n",
      " Listing Name:  Spacious, Secure Studio in Civic Center \n",
      " URL:  http://sfbay.craigslist.org/sfc/apa/6062428913.html \n",
      " Bike Parking (Close?, Location Name, Distance (km)):  True location 2 0.9570800239157463 \n",
      " Local Public Off-Street Parking Density, # of Spots:  Low Public Parking Density 18 \n",
      " Local Private Off-Street Parking Density, # of Spots:  High Private Parking Density 115\n"
     ]
    },
    {
     "data": {
      "text/markdown": [
       "**-------------------------------------------------**"
      ],
      "text/plain": [
       "<IPython.core.display.Markdown object>"
      ]
     },
     "metadata": {},
     "output_type": "display_data"
    },
    {
     "name": "stdout",
     "output_type": "stream",
     "text": [
      "Evaluating:  Rub Elbows with Ritz and Fairmont Neighbors in Nob Hill Masterpiece http://sfbay.craigslist.org/sfc/apa/6079917858.html\n",
      "Evaluating:  Cute Corner Apartment in Great Location http://sfbay.craigslist.org/sfc/apa/6079933828.html\n",
      "Evaluating:  2nd Floor 1bd/1ba Apartment http://sfbay.craigslist.org/sfc/apa/6052842336.html\n",
      "Evaluating:  Top Floor 1bd/1ba Apartment http://sfbay.craigslist.org/sfc/apa/6062801946.html\n",
      "Evaluating:  DOGPATCH 2ND FLOOR 1 BEDROOM http://sfbay.craigslist.org/sfc/apa/6075789004.html\n",
      "Evaluating:  HiTech 1BD1BA , Large Windows Frame Western Views, Off 9th Street http://sfbay.craigslist.org/sfc/apa/6044008747.html\n"
     ]
    },
    {
     "data": {
      "text/markdown": [
       "**-------------------VALID RESULT------------------**"
      ],
      "text/plain": [
       "<IPython.core.display.Markdown object>"
      ]
     },
     "metadata": {},
     "output_type": "display_data"
    },
    {
     "name": "stdout",
     "output_type": "stream",
     "text": [
      "Area:  SOMA / south beach \n",
      " Price:  $3650 \n",
      " Listing Name:  HiTech 1BD1BA , Large Windows Frame Western Views, Off 9th Street \n",
      " URL:  http://sfbay.craigslist.org/sfc/apa/6044008747.html \n",
      " Bike Parking (Close?, Location Name, Distance (km)):  True location 2 1.123055614493445 \n",
      " Local Public Off-Street Parking Density, # of Spots:  Low Public Parking Density 18 \n",
      " Local Private Off-Street Parking Density, # of Spots:  High Private Parking Density 115\n"
     ]
    },
    {
     "data": {
      "text/markdown": [
       "**-------------------------------------------------**"
      ],
      "text/plain": [
       "<IPython.core.display.Markdown object>"
      ]
     },
     "metadata": {},
     "output_type": "display_data"
    },
    {
     "name": "stdout",
     "output_type": "stream",
     "text": [
      "Evaluating:  Lovely Victorian, Clawfoot, Bay Windows http://sfbay.craigslist.org/sfc/apa/6079904912.html\n",
      "Evaluating:  LARGE GORGEOUS STUDIO! Rent Control! Renovated! http://sfbay.craigslist.org/sfc/apa/6079911925.html\n",
      "Evaluating:  Studio with Stunning View- Prime Location- Rent Controlled http://sfbay.craigslist.org/sfc/apa/6079911225.html\n",
      "Evaluating:  Fantastic 1 Bedroom- Hardwood Floors http://sfbay.craigslist.org/sfc/apa/6079880842.html\n",
      "Evaluating:  Huge 2 level 2 Bedroom with Great Views http://sfbay.craigslist.org/sfc/apa/6073048725.html\n",
      "Evaluating:  Modern and bright Mission District 2 bed/1 bath apt! Ready NOW! http://sfbay.craigslist.org/sfc/apa/6079890062.html\n",
      "Evaluating:  1 Bedroom, Spacious, Bright. Showing 12pm Sunday, call for viewing. http://sfbay.craigslist.org/sfc/apa/6055759137.html\n"
     ]
    },
    {
     "data": {
      "text/markdown": [
       "**-------------------VALID RESULT------------------**"
      ],
      "text/plain": [
       "<IPython.core.display.Markdown object>"
      ]
     },
     "metadata": {},
     "output_type": "display_data"
    },
    {
     "name": "stdout",
     "output_type": "stream",
     "text": [
      "Area:  San Francisco \n",
      " Price:  $2800 \n",
      " Listing Name:  1 Bedroom, Spacious, Bright. Showing 12pm Sunday, call for viewing. \n",
      " URL:  http://sfbay.craigslist.org/sfc/apa/6055759137.html \n",
      " Bike Parking (Close?, Location Name, Distance (km)):  True location 2 0.9613462132829562 \n",
      " Local Public Off-Street Parking Density, # of Spots:  Low Public Parking Density 18 \n",
      " Local Private Off-Street Parking Density, # of Spots:  High Private Parking Density 115\n"
     ]
    },
    {
     "data": {
      "text/markdown": [
       "**-------------------------------------------------**"
      ],
      "text/plain": [
       "<IPython.core.display.Markdown object>"
      ]
     },
     "metadata": {},
     "output_type": "display_data"
    },
    {
     "name": "stdout",
     "output_type": "stream",
     "text": [
      "Evaluating:  Gorgeous Junior 1 bedroom! Rent Control! Reduced Rents! http://sfbay.craigslist.org/sfc/apa/6079903412.html\n",
      "Evaluating:  LARGE GORGEOUS STUDIO! Rent Control! Renovated! http://sfbay.craigslist.org/sfc/apa/6079893702.html\n",
      "Evaluating:  RENTING NEED STUBS SUPER EASY http://sfbay.craigslist.org/sfc/apa/6069577066.html\n",
      "Evaluating:  2bd/2ba apt beautiful lake Merced dist http://sfbay.craigslist.org/sfc/apa/6079883207.html\n",
      "Evaluating:  Spacious, Convenient, Private Entrance, In-Law http://sfbay.craigslist.org/sfc/apa/6079882666.html\n",
      "Evaluating:  $1950  1BR -- 1BA  600 ft 1 bdrm in Excelsior http://sfbay.craigslist.org/sfc/apa/6054247465.html\n",
      "Evaluating:  $1650 / 1br - Private Room (SOMA / south beach) http://sfbay.craigslist.org/sfc/apa/6079869481.html\n"
     ]
    },
    {
     "data": {
      "text/markdown": [
       "**-------------------VALID RESULT------------------**"
      ],
      "text/plain": [
       "<IPython.core.display.Markdown object>"
      ]
     },
     "metadata": {},
     "output_type": "display_data"
    },
    {
     "name": "stdout",
     "output_type": "stream",
     "text": [
      "Area:  SOMA / south beach \n",
      " Price:  $1650 \n",
      " Listing Name:  $1650 / 1br - Private Room (SOMA / south beach) \n",
      " URL:  http://sfbay.craigslist.org/sfc/apa/6079869481.html \n",
      " Bike Parking (Close?, Location Name, Distance (km)):  True location 2 1.9277521532165764 \n",
      " Local Public Off-Street Parking Density, # of Spots:  Low Public Parking Density 18 \n",
      " Local Private Off-Street Parking Density, # of Spots:  High Private Parking Density 115\n"
     ]
    },
    {
     "data": {
      "text/markdown": [
       "**-------------------------------------------------**"
      ],
      "text/plain": [
       "<IPython.core.display.Markdown object>"
      ]
     },
     "metadata": {},
     "output_type": "display_data"
    },
    {
     "name": "stdout",
     "output_type": "stream",
     "text": [
      "Evaluating:  New and Stunning One Bedroom In Prime Location! Book Your Tour Today! http://sfbay.craigslist.org/sfc/apa/6079867711.html\n"
     ]
    },
    {
     "data": {
      "text/markdown": [
       "**-------------------VALID RESULT------------------**"
      ],
      "text/plain": [
       "<IPython.core.display.Markdown object>"
      ]
     },
     "metadata": {},
     "output_type": "display_data"
    },
    {
     "name": "stdout",
     "output_type": "stream",
     "text": [
      "Area:  SOMA / south beach \n",
      " Price:  $2890 \n",
      " Listing Name:  New and Stunning One Bedroom In Prime Location! Book Your Tour Today! \n",
      " URL:  http://sfbay.craigslist.org/sfc/apa/6079867711.html \n",
      " Bike Parking (Close?, Location Name, Distance (km)):  True location 2 0.8371889954220105 \n",
      " Local Public Off-Street Parking Density, # of Spots:  Low Public Parking Density 18 \n",
      " Local Private Off-Street Parking Density, # of Spots:  High Private Parking Density 115\n"
     ]
    },
    {
     "data": {
      "text/markdown": [
       "**-------------------------------------------------**"
      ],
      "text/plain": [
       "<IPython.core.display.Markdown object>"
      ]
     },
     "metadata": {},
     "output_type": "display_data"
    },
    {
     "name": "stdout",
     "output_type": "stream",
     "text": [
      "Evaluating:  Two bedroom flat http://sfbay.craigslist.org/sfc/apa/6071789352.html\n",
      "Evaluating:  Spacious flat;  Laundry;  Garage; Fireplace http://sfbay.craigslist.org/sfc/apa/6065520989.html\n",
      "Evaluating:  ON UPPER PANHANDLE PARK - POPULAR EDWARDIAN - TOP FLOOR http://sfbay.craigslist.org/sfc/apa/6058047240.html\n",
      "Evaluating:  HUGE REMODELED UNIT ON UPPER PANHANDLE PARK - NICE!! http://sfbay.craigslist.org/sfc/apa/6076945907.html\n",
      "Evaluating:  1 Bed + Office/Den, 1 Bath - Luxury SOMA Condo w 150 Sq Ft Patio + Pkg http://sfbay.craigslist.org/sfc/apa/6079870766.html\n"
     ]
    },
    {
     "data": {
      "text/markdown": [
       "**-------------------VALID RESULT------------------**"
      ],
      "text/plain": [
       "<IPython.core.display.Markdown object>"
      ]
     },
     "metadata": {},
     "output_type": "display_data"
    },
    {
     "name": "stdout",
     "output_type": "stream",
     "text": [
      "Area:  SOMA / south beach \n",
      " Price:  $3600 \n",
      " Listing Name:  1 Bed + Office/Den, 1 Bath - Luxury SOMA Condo w 150 Sq Ft Patio + Pkg \n",
      " URL:  http://sfbay.craigslist.org/sfc/apa/6079870766.html \n",
      " Bike Parking (Close?, Location Name, Distance (km)):  True location 2 0.9731297854010016 \n",
      " Local Public Off-Street Parking Density, # of Spots:  Low Public Parking Density 18 \n",
      " Local Private Off-Street Parking Density, # of Spots:  High Private Parking Density 115\n"
     ]
    },
    {
     "data": {
      "text/markdown": [
       "**-------------------------------------------------**"
      ],
      "text/plain": [
       "<IPython.core.display.Markdown object>"
      ]
     },
     "metadata": {},
     "output_type": "display_data"
    },
    {
     "name": "stdout",
     "output_type": "stream",
     "text": [
      "Evaluating:  $0 Security Deposit and ONE MONTH FREE RENT!! POLK AND POST STREETS http://sfbay.craigslist.org/sfc/apa/6079841271.html\n"
     ]
    },
    {
     "data": {
      "text/markdown": [
       "**-------------------VALID RESULT------------------**"
      ],
      "text/plain": [
       "<IPython.core.display.Markdown object>"
      ]
     },
     "metadata": {},
     "output_type": "display_data"
    },
    {
     "name": "stdout",
     "output_type": "stream",
     "text": [
      "Area:  downtown / civic / van ness \n",
      " Price:  $2695 \n",
      " Listing Name:  $0 Security Deposit and ONE MONTH FREE RENT!! POLK AND POST STREETS \n",
      " URL:  http://sfbay.craigslist.org/sfc/apa/6079841271.html \n",
      " Bike Parking (Close?, Location Name, Distance (km)):  True location 2 0.7572289303014857 \n",
      " Local Public Off-Street Parking Density, # of Spots:  Low Public Parking Density 18 \n",
      " Local Private Off-Street Parking Density, # of Spots:  High Private Parking Density 115\n"
     ]
    },
    {
     "data": {
      "text/markdown": [
       "**-------------------------------------------------**"
      ],
      "text/plain": [
       "<IPython.core.display.Markdown object>"
      ]
     },
     "metadata": {},
     "output_type": "display_data"
    },
    {
     "name": "stdout",
     "output_type": "stream",
     "text": [
      "Evaluating:  2 Bed, 1 Bath - Portola Single Family Home - Backyard w 2 Car Parking http://sfbay.craigslist.org/sfc/apa/6079869922.html\n",
      "Evaluating:  Luxury 2 Bedroom w/ City Views, Waived App Fees, $500 Deposit Special! http://sfbay.craigslist.org/sfc/apa/6079857749.html\n"
     ]
    },
    {
     "data": {
      "text/markdown": [
       "**-------------------VALID RESULT------------------**"
      ],
      "text/plain": [
       "<IPython.core.display.Markdown object>"
      ]
     },
     "metadata": {},
     "output_type": "display_data"
    },
    {
     "name": "stdout",
     "output_type": "stream",
     "text": [
      "Area:  SOMA / south beach \n",
      " Price:  $3610 \n",
      " Listing Name:  Luxury 2 Bedroom w/ City Views, Waived App Fees, $500 Deposit Special! \n",
      " URL:  http://sfbay.craigslist.org/sfc/apa/6079857749.html \n",
      " Bike Parking (Close?, Location Name, Distance (km)):  True location 2 0.8371889954220105 \n",
      " Local Public Off-Street Parking Density, # of Spots:  Low Public Parking Density 18 \n",
      " Local Private Off-Street Parking Density, # of Spots:  High Private Parking Density 115\n"
     ]
    },
    {
     "data": {
      "text/markdown": [
       "**-------------------------------------------------**"
      ],
      "text/plain": [
       "<IPython.core.display.Markdown object>"
      ]
     },
     "metadata": {},
     "output_type": "display_data"
    },
    {
     "name": "stdout",
     "output_type": "stream",
     "text": [
      "Evaluating:  Corner Apt. Custom Finishes with Modern Design! Free Wifi/Cable http://sfbay.craigslist.org/sfc/apa/6079869003.html\n",
      "Evaluating:  Luxury Studios Surrounded By A Beautiful New Park at 33 8th Street! http://sfbay.craigslist.org/sfc/apa/6079854949.html\n"
     ]
    },
    {
     "data": {
      "text/markdown": [
       "**-------------------VALID RESULT------------------**"
      ],
      "text/plain": [
       "<IPython.core.display.Markdown object>"
      ]
     },
     "metadata": {},
     "output_type": "display_data"
    },
    {
     "name": "stdout",
     "output_type": "stream",
     "text": [
      "Area:  SOMA / south beach \n",
      " Price:  $2550 \n",
      " Listing Name:  Luxury Studios Surrounded By A Beautiful New Park at 33 8th Street! \n",
      " URL:  http://sfbay.craigslist.org/sfc/apa/6079854949.html \n",
      " Bike Parking (Close?, Location Name, Distance (km)):  True location 2 0.8371889954220105 \n",
      " Local Public Off-Street Parking Density, # of Spots:  Low Public Parking Density 18 \n",
      " Local Private Off-Street Parking Density, # of Spots:  High Private Parking Density 115\n"
     ]
    },
    {
     "data": {
      "text/markdown": [
       "**-------------------------------------------------**"
      ],
      "text/plain": [
       "<IPython.core.display.Markdown object>"
      ]
     },
     "metadata": {},
     "output_type": "display_data"
    },
    {
     "data": {
      "text/plain": [
       "[{'BP_close': True,\n",
       "  'BP_distance': 1.3258665132557403,\n",
       "  'BP_location': 'location 2',\n",
       "  'Private_Parking_Density': 'High Private Parking Density',\n",
       "  'Private_Parking_Spots': 115,\n",
       "  'Public_Parking_Density': 'Low Public Parking Density',\n",
       "  'Public_Parking_Spots': 18,\n",
       "  'area': 'SOMA / south beach',\n",
       "  'datetime': '2017-04-08 13:59',\n",
       "  'geotag': (37.773717, -122.409303),\n",
       "  'has_image': True,\n",
       "  'has_map': True,\n",
       "  'id': '6080088197',\n",
       "  'name': 'Leasing For Spring! 3 Weeks Free Rent, 6 Months Free Parking!',\n",
       "  'price': '$3420',\n",
       "  'url': 'http://sfbay.craigslist.org/sfc/apa/6080088197.html',\n",
       "  'where': 'SOMA / south beach'},\n",
       " {'BP_close': True,\n",
       "  'BP_distance': 0.6729616185043035,\n",
       "  'BP_location': 'location 2',\n",
       "  'Private_Parking_Density': 'High Private Parking Density',\n",
       "  'Private_Parking_Spots': 115,\n",
       "  'Public_Parking_Density': 'Low Public Parking Density',\n",
       "  'Public_Parking_Spots': 18,\n",
       "  'area': 'lower nob hill',\n",
       "  'datetime': '2017-04-08 13:54',\n",
       "  'geotag': (37.789046, -122.417541),\n",
       "  'has_image': True,\n",
       "  'has_map': True,\n",
       "  'id': '6080071194',\n",
       "  'name': 'Historic and Handsome Home with Exposed Brick - Lower Nob Hill',\n",
       "  'price': '$2395',\n",
       "  'url': 'http://sfbay.craigslist.org/sfc/apa/6080071194.html',\n",
       "  'where': 'lower nob hill'},\n",
       " {'BP_close': True,\n",
       "  'BP_distance': 0.7824807331771406,\n",
       "  'BP_location': 'location 2',\n",
       "  'Private_Parking_Density': 'High Private Parking Density',\n",
       "  'Private_Parking_Spots': 115,\n",
       "  'Public_Parking_Density': 'Low Public Parking Density',\n",
       "  'Public_Parking_Spots': 18,\n",
       "  'area': 'lower nob hill',\n",
       "  'datetime': '2017-04-08 13:51',\n",
       "  'geotag': (37.788845, -122.419161),\n",
       "  'has_image': True,\n",
       "  'has_map': True,\n",
       "  'id': '6080077255',\n",
       "  'name': \"Commuter's Dream\",\n",
       "  'price': '$2664',\n",
       "  'url': 'http://sfbay.craigslist.org/sfc/apa/6080077255.html',\n",
       "  'where': 'lower nob hill'},\n",
       " {'BP_close': True,\n",
       "  'BP_distance': 1.07091784808219,\n",
       "  'BP_location': 'location 2',\n",
       "  'Private_Parking_Density': 'High Private Parking Density',\n",
       "  'Private_Parking_Spots': 115,\n",
       "  'Public_Parking_Density': 'Low Public Parking Density',\n",
       "  'Public_Parking_Spots': 18,\n",
       "  'area': 'hayes valley',\n",
       "  'datetime': '2017-04-08 13:50',\n",
       "  'geotag': (37.777512, -122.418043),\n",
       "  'has_image': True,\n",
       "  'has_map': True,\n",
       "  'id': '6080075693',\n",
       "  'name': 'NEW TO THE CITY! BRAND NEW 2BR AT THE CIVIC! TOUR TODAY!',\n",
       "  'price': '$3850',\n",
       "  'url': 'http://sfbay.craigslist.org/sfc/apa/6080075693.html',\n",
       "  'where': 'hayes valley'},\n",
       " {'BP_close': True,\n",
       "  'BP_distance': 1.07091784808219,\n",
       "  'BP_location': 'location 2',\n",
       "  'Private_Parking_Density': 'High Private Parking Density',\n",
       "  'Private_Parking_Spots': 115,\n",
       "  'Public_Parking_Density': 'Low Public Parking Density',\n",
       "  'Public_Parking_Spots': 18,\n",
       "  'area': 'hayes valley',\n",
       "  'datetime': '2017-04-08 13:47',\n",
       "  'geotag': (37.777512, -122.418043),\n",
       "  'has_image': True,\n",
       "  'has_map': True,\n",
       "  'id': '6080071250',\n",
       "  'name': 'COME TOUR THIS AMAZING 1BR APARTMENT AT THE CIVIC TODAY!!',\n",
       "  'price': '$3071',\n",
       "  'url': 'http://sfbay.craigslist.org/sfc/apa/6080071250.html',\n",
       "  'where': 'hayes valley'},\n",
       " {'BP_close': True,\n",
       "  'BP_distance': 0.2518861517443259,\n",
       "  'BP_location': 'location 2',\n",
       "  'Private_Parking_Density': 'High Private Parking Density',\n",
       "  'Private_Parking_Spots': 115,\n",
       "  'Public_Parking_Density': 'Low Public Parking Density',\n",
       "  'Public_Parking_Spots': 18,\n",
       "  'area': 'lower nob hill',\n",
       "  'datetime': '2017-04-08 13:46',\n",
       "  'geotag': (37.786649, -122.413799),\n",
       "  'has_image': True,\n",
       "  'has_map': True,\n",
       "  'id': '6080070919',\n",
       "  'name': 'A New Wave of Living',\n",
       "  'price': '$3237',\n",
       "  'url': 'http://sfbay.craigslist.org/sfc/apa/6080070919.html',\n",
       "  'where': 'lower nob hill'},\n",
       " {'BP_close': True,\n",
       "  'BP_distance': 1.07091784808219,\n",
       "  'BP_location': 'location 2',\n",
       "  'Private_Parking_Density': 'High Private Parking Density',\n",
       "  'Private_Parking_Spots': 115,\n",
       "  'Public_Parking_Density': 'Low Public Parking Density',\n",
       "  'Public_Parking_Spots': 18,\n",
       "  'area': 'hayes valley',\n",
       "  'datetime': '2017-04-08 13:45',\n",
       "  'geotag': (37.777512, -122.418043),\n",
       "  'has_image': True,\n",
       "  'has_map': True,\n",
       "  'id': '6080069149',\n",
       "  'name': \"AMAZING NEW 1BR!! DON'T MISS YOUR CHANCE TO RENT AT THE CIVIC!!!\",\n",
       "  'price': '$3600',\n",
       "  'url': 'http://sfbay.craigslist.org/sfc/apa/6080069149.html',\n",
       "  'where': 'hayes valley'},\n",
       " {'BP_close': True,\n",
       "  'BP_distance': 1.495442251237609,\n",
       "  'BP_location': 'location 3',\n",
       "  'Private_Parking_Density': 'High Private Parking Density',\n",
       "  'Private_Parking_Spots': 115,\n",
       "  'Public_Parking_Density': 'Low Public Parking Density',\n",
       "  'Public_Parking_Spots': 18,\n",
       "  'area': 'hayes valley',\n",
       "  'datetime': '2017-04-08 13:45',\n",
       "  'geotag': (37.774295, -122.424514),\n",
       "  'has_image': True,\n",
       "  'has_map': True,\n",
       "  'id': '6080058106',\n",
       "  'name': 'Junior 1 bedroom, 1 bath, In-law - 223c',\n",
       "  'price': '$3000',\n",
       "  'url': 'http://sfbay.craigslist.org/sfc/apa/6080058106.html',\n",
       "  'where': 'hayes valley'},\n",
       " {'BP_close': True,\n",
       "  'BP_distance': 1.07091784808219,\n",
       "  'BP_location': 'location 2',\n",
       "  'Private_Parking_Density': 'High Private Parking Density',\n",
       "  'Private_Parking_Spots': 115,\n",
       "  'Public_Parking_Density': 'Low Public Parking Density',\n",
       "  'Public_Parking_Spots': 18,\n",
       "  'area': 'hayes valley',\n",
       "  'datetime': '2017-04-08 13:43',\n",
       "  'geotag': (37.777512, -122.418043),\n",
       "  'has_image': True,\n",
       "  'has_map': True,\n",
       "  'id': '6080066538',\n",
       "  'name': 'SPECTACULAR 1 BEDROOM WITH LUXURY FEATURES! TOUR THE CIVIC TODAY!',\n",
       "  'price': '$3800',\n",
       "  'url': 'http://sfbay.craigslist.org/sfc/apa/6080066538.html',\n",
       "  'where': 'hayes valley'},\n",
       " {'BP_close': True,\n",
       "  'BP_distance': 1.07091784808219,\n",
       "  'BP_location': 'location 2',\n",
       "  'Private_Parking_Density': 'High Private Parking Density',\n",
       "  'Private_Parking_Spots': 115,\n",
       "  'Public_Parking_Density': 'Low Public Parking Density',\n",
       "  'Public_Parking_Spots': 18,\n",
       "  'area': 'hayes valley',\n",
       "  'datetime': '2017-04-08 13:35',\n",
       "  'geotag': (37.777512, -122.418043),\n",
       "  'has_image': True,\n",
       "  'has_map': True,\n",
       "  'id': '6080053644',\n",
       "  'name': 'COME TOUR THIS AMAZING 1BR APARTMENT AT THE CIVIC TODAY!!',\n",
       "  'price': '$3700',\n",
       "  'url': 'http://sfbay.craigslist.org/sfc/apa/6080053644.html',\n",
       "  'where': 'hayes valley'},\n",
       " {'BP_close': True,\n",
       "  'BP_distance': 0.3086397416373347,\n",
       "  'BP_location': 'location 2',\n",
       "  'Private_Parking_Density': 'High Private Parking Density',\n",
       "  'Private_Parking_Spots': 115,\n",
       "  'Public_Parking_Density': 'Low Public Parking Density',\n",
       "  'Public_Parking_Spots': 18,\n",
       "  'area': 'downtown / civic / van ness',\n",
       "  'datetime': '2017-04-08 13:26',\n",
       "  'geotag': (37.78655, -122.414572),\n",
       "  'has_image': True,\n",
       "  'has_map': True,\n",
       "  'id': '6080008416',\n",
       "  'name': \"Step Outside, You're There - Central Downtown Hot Spot\",\n",
       "  'price': '$2195',\n",
       "  'url': 'http://sfbay.craigslist.org/sfc/apa/6080008416.html',\n",
       "  'where': 'downtown / civic / van ness'},\n",
       " {'BP_close': True,\n",
       "  'BP_distance': 0.8969068036151644,\n",
       "  'BP_location': 'location 2',\n",
       "  'Private_Parking_Density': 'High Private Parking Density',\n",
       "  'Private_Parking_Spots': 115,\n",
       "  'Public_Parking_Density': 'Low Public Parking Density',\n",
       "  'Public_Parking_Spots': 18,\n",
       "  'area': 'downtown / civic / van ness',\n",
       "  'datetime': '2017-04-08 13:12',\n",
       "  'geotag': (37.782383, -122.420697),\n",
       "  'has_image': True,\n",
       "  'has_map': True,\n",
       "  'id': '6080010853',\n",
       "  'name': 'Suitcase Ready-Polk St./ Hayes Valley-w/d-Parking-Modern-Inclusive.!',\n",
       "  'price': '$2675',\n",
       "  'url': 'http://sfbay.craigslist.org/sfc/apa/6080010853.html',\n",
       "  'where': 'downtown / civic / van ness'},\n",
       " {'BP_close': True,\n",
       "  'BP_distance': 0.46036186068735435,\n",
       "  'BP_location': 'location 2',\n",
       "  'Private_Parking_Density': 'High Private Parking Density',\n",
       "  'Private_Parking_Spots': 115,\n",
       "  'Public_Parking_Density': 'Low Public Parking Density',\n",
       "  'Public_Parking_Spots': 18,\n",
       "  'area': 'downtown / civic / van ness',\n",
       "  'datetime': '2017-04-08 13:11',\n",
       "  'geotag': (37.78631, -122.416449),\n",
       "  'has_image': True,\n",
       "  'has_map': True,\n",
       "  'id': '6080018412',\n",
       "  'name': 'Junior Two Bedroom, downtwn, newly renovated, eat-in kitchen',\n",
       "  'price': '$3195',\n",
       "  'url': 'http://sfbay.craigslist.org/sfc/apa/6080018412.html',\n",
       "  'where': 'downtown / civic / van ness'},\n",
       " {'BP_close': True,\n",
       "  'BP_distance': 0.7460762095195254,\n",
       "  'BP_location': 'location 2',\n",
       "  'Private_Parking_Density': 'High Private Parking Density',\n",
       "  'Private_Parking_Spots': 115,\n",
       "  'Public_Parking_Density': 'Low Public Parking Density',\n",
       "  'Public_Parking_Spots': 18,\n",
       "  'area': 'lower nob hill',\n",
       "  'datetime': '2017-04-08 13:10',\n",
       "  'geotag': (37.78647, -122.41971),\n",
       "  'has_image': True,\n",
       "  'has_map': True,\n",
       "  'id': '6080017697',\n",
       "  'name': 'Polk & Post/Available Now/Pets Ok/Pay $0 Deposit!First Month Free!!',\n",
       "  'price': '$2695',\n",
       "  'url': 'http://sfbay.craigslist.org/sfc/apa/6080017697.html',\n",
       "  'where': 'lower nob hill'},\n",
       " {'BP_close': True,\n",
       "  'BP_distance': 0.6684214678667498,\n",
       "  'BP_location': 'location 2',\n",
       "  'Private_Parking_Density': 'High Private Parking Density',\n",
       "  'Private_Parking_Spots': 115,\n",
       "  'Public_Parking_Density': 'Low Public Parking Density',\n",
       "  'Public_Parking_Spots': 18,\n",
       "  'area': 'downtown / civic / van ness',\n",
       "  'datetime': '2017-04-08 13:07',\n",
       "  'geotag': (37.7813, -122.4167),\n",
       "  'has_image': False,\n",
       "  'has_map': True,\n",
       "  'id': '6080013313',\n",
       "  'name': 'See today*hardwood*sunny**nrAAU,SFAI,Remodeled!',\n",
       "  'price': '$1395',\n",
       "  'url': 'http://sfbay.craigslist.org/sfc/apa/6080013313.html',\n",
       "  'where': 'downtown / civic / van ness'},\n",
       " {'BP_close': True,\n",
       "  'BP_distance': 1.1811357516597503,\n",
       "  'BP_location': 'location 2',\n",
       "  'Private_Parking_Density': 'High Private Parking Density',\n",
       "  'Private_Parking_Spots': 115,\n",
       "  'Public_Parking_Density': 'Low Public Parking Density',\n",
       "  'Public_Parking_Spots': 18,\n",
       "  'area': 'lower pac hts',\n",
       "  'datetime': '2017-04-08 13:07',\n",
       "  'geotag': (37.785616, -122.424743),\n",
       "  'has_image': True,\n",
       "  'has_map': True,\n",
       "  'id': '6072420199',\n",
       "  'name': '1bed/2bath W Den 1100 sqft  *Scott Russell AMSI*',\n",
       "  'price': '$3650',\n",
       "  'url': 'http://sfbay.craigslist.org/sfc/apa/6072420199.html',\n",
       "  'where': 'lower pac hts'},\n",
       " {'BP_close': True,\n",
       "  'BP_distance': 0.6004726131421273,\n",
       "  'BP_location': 'location 2',\n",
       "  'Private_Parking_Density': 'High Private Parking Density',\n",
       "  'Private_Parking_Spots': 115,\n",
       "  'Public_Parking_Density': 'Low Public Parking Density',\n",
       "  'Public_Parking_Spots': 18,\n",
       "  'area': 'downtown / civic / van ness',\n",
       "  'datetime': '2017-04-08 13:04',\n",
       "  'geotag': (37.783311, -122.417529),\n",
       "  'has_image': True,\n",
       "  'has_map': True,\n",
       "  'id': '6080008293',\n",
       "  'name': '530 Large remodeled*hardwood floors*sunny',\n",
       "  'price': '$1795',\n",
       "  'url': 'http://sfbay.craigslist.org/sfc/apa/6080008293.html',\n",
       "  'where': 'downtown / civic / van ness'},\n",
       " {'BP_close': True,\n",
       "  'BP_distance': 0.33302261907142683,\n",
       "  'BP_location': 'location 2',\n",
       "  'Private_Parking_Density': 'High Private Parking Density',\n",
       "  'Private_Parking_Spots': 115,\n",
       "  'Public_Parking_Density': 'Low Public Parking Density',\n",
       "  'Public_Parking_Spots': 18,\n",
       "  'area': 'downtown / civic / van ness',\n",
       "  'datetime': '2017-04-08 12:48',\n",
       "  'geotag': (37.785249, -122.415075),\n",
       "  'has_image': True,\n",
       "  'has_map': True,\n",
       "  'id': '6079984517',\n",
       "  'name': \"2BD 1BA in 1920's Art Deco Building, Utilities Included, Pets OK\",\n",
       "  'price': '$3495',\n",
       "  'url': 'http://sfbay.craigslist.org/sfc/apa/6079984517.html',\n",
       "  'where': 'downtown / civic / van ness'},\n",
       " {'BP_close': True,\n",
       "  'BP_distance': 0.8297383284143433,\n",
       "  'BP_location': 'location 2',\n",
       "  'Private_Parking_Density': 'High Private Parking Density',\n",
       "  'Private_Parking_Spots': 115,\n",
       "  'Public_Parking_Density': 'Low Public Parking Density',\n",
       "  'Public_Parking_Spots': 18,\n",
       "  'area': 'SOMA / south beach',\n",
       "  'datetime': '2017-04-08 12:42',\n",
       "  'geotag': (37.778144, -122.412597),\n",
       "  'has_image': True,\n",
       "  'has_map': True,\n",
       "  'id': '6079960332',\n",
       "  'name': 'Move-In Ready 1 Bedroom 1 Bath Apartment w/ Den!',\n",
       "  'price': '$3299',\n",
       "  'url': 'http://sfbay.craigslist.org/sfc/apa/6079960332.html',\n",
       "  'where': 'SOMA / south beach'},\n",
       " {'BP_close': True,\n",
       "  'BP_distance': 1.9447259912603478,\n",
       "  'BP_location': 'location 2',\n",
       "  'Private_Parking_Density': 'High Private Parking Density',\n",
       "  'Private_Parking_Spots': 115,\n",
       "  'Public_Parking_Density': 'Low Public Parking Density',\n",
       "  'Public_Parking_Spots': 18,\n",
       "  'area': 'SOMA / south beach',\n",
       "  'datetime': '2017-04-08 12:40',\n",
       "  'geotag': (37.7864, -122.3892),\n",
       "  'has_image': True,\n",
       "  'has_map': True,\n",
       "  'id': '6040663384',\n",
       "  'name': 'INVITING SOUTH BEACH CONDO',\n",
       "  'price': '$4000',\n",
       "  'url': 'http://sfbay.craigslist.org/sfc/apa/6040663384.html',\n",
       "  'where': 'SOMA / south beach'},\n",
       " {'BP_close': True,\n",
       "  'BP_distance': 1.7534478268892728,\n",
       "  'BP_location': 'location 2',\n",
       "  'Private_Parking_Density': 'High Private Parking Density',\n",
       "  'Private_Parking_Spots': 115,\n",
       "  'Public_Parking_Density': 'Low Public Parking Density',\n",
       "  'Public_Parking_Spots': 18,\n",
       "  'area': 'financial district',\n",
       "  'datetime': '2017-04-08 12:31',\n",
       "  'geotag': (37.78723, -122.391465),\n",
       "  'has_image': True,\n",
       "  'has_map': True,\n",
       "  'id': '6079957074',\n",
       "  'name': 'Great Deal on this Spacious Studio in a Luxury Community!',\n",
       "  'price': '$3195',\n",
       "  'url': 'http://sfbay.craigslist.org/sfc/apa/6079957074.html',\n",
       "  'where': 'financial district'},\n",
       " {'BP_close': True,\n",
       "  'BP_distance': 0.7403120087901159,\n",
       "  'BP_location': 'location 2',\n",
       "  'Private_Parking_Density': 'High Private Parking Density',\n",
       "  'Private_Parking_Spots': 115,\n",
       "  'Public_Parking_Density': 'Low Public Parking Density',\n",
       "  'Public_Parking_Spots': 18,\n",
       "  'area': 'SOMA / south beach',\n",
       "  'datetime': '2017-04-08 12:25',\n",
       "  'geotag': (37.779739, -122.407159),\n",
       "  'has_image': True,\n",
       "  'has_map': True,\n",
       "  'id': '6064410144',\n",
       "  'name': 'Great price. Great people!',\n",
       "  'price': '$1500',\n",
       "  'url': 'http://sfbay.craigslist.org/sfc/apa/6064410144.html',\n",
       "  'where': 'SOMA / south beach'},\n",
       " {'BP_close': True,\n",
       "  'BP_distance': 0.8260468247792232,\n",
       "  'BP_location': 'location 2',\n",
       "  'Private_Parking_Density': 'High Private Parking Density',\n",
       "  'Private_Parking_Spots': 115,\n",
       "  'Public_Parking_Density': 'Low Public Parking Density',\n",
       "  'Public_Parking_Spots': 18,\n",
       "  'area': 'SOMA / south beach',\n",
       "  'datetime': '2017-04-08 12:22',\n",
       "  'geotag': (37.778186, -122.412672),\n",
       "  'has_image': True,\n",
       "  'has_map': True,\n",
       "  'id': '6079943792',\n",
       "  'name': 'Move in Ready! JR One Bedroom at 1188 Mission for $2499!',\n",
       "  'price': '$2499',\n",
       "  'url': 'http://sfbay.craigslist.org/sfc/apa/6079943792.html',\n",
       "  'where': 'SOMA / south beach'},\n",
       " {'BP_close': True,\n",
       "  'BP_distance': 0.9570800239157463,\n",
       "  'BP_location': 'location 2',\n",
       "  'Private_Parking_Density': 'High Private Parking Density',\n",
       "  'Private_Parking_Spots': 115,\n",
       "  'Public_Parking_Density': 'Low Public Parking Density',\n",
       "  'Public_Parking_Spots': 18,\n",
       "  'area': 'downtown / civic / van ness',\n",
       "  'datetime': '2017-04-08 12:16',\n",
       "  'geotag': (37.782003, -122.421234),\n",
       "  'has_image': True,\n",
       "  'has_map': True,\n",
       "  'id': '6062428913',\n",
       "  'name': 'Spacious, Secure Studio in Civic Center',\n",
       "  'price': '$2500',\n",
       "  'url': 'http://sfbay.craigslist.org/sfc/apa/6062428913.html',\n",
       "  'where': 'downtown / civic / van ness'},\n",
       " {'BP_close': True,\n",
       "  'BP_distance': 1.123055614493445,\n",
       "  'BP_location': 'location 2',\n",
       "  'Private_Parking_Density': 'High Private Parking Density',\n",
       "  'Private_Parking_Spots': 115,\n",
       "  'Public_Parking_Density': 'Low Public Parking Density',\n",
       "  'Public_Parking_Spots': 18,\n",
       "  'area': 'SOMA / south beach',\n",
       "  'datetime': '2017-04-08 12:06',\n",
       "  'geotag': (37.775718, -122.414303),\n",
       "  'has_image': True,\n",
       "  'has_map': True,\n",
       "  'id': '6044008747',\n",
       "  'name': 'HiTech 1BD1BA , Large Windows Frame Western Views, Off 9th Street',\n",
       "  'price': '$3650',\n",
       "  'url': 'http://sfbay.craigslist.org/sfc/apa/6044008747.html',\n",
       "  'where': 'SOMA / south beach'},\n",
       " {'BP_close': True,\n",
       "  'BP_distance': 0.9613462132829562,\n",
       "  'BP_location': 'location 2',\n",
       "  'Private_Parking_Density': 'High Private Parking Density',\n",
       "  'Private_Parking_Spots': 115,\n",
       "  'Public_Parking_Density': 'Low Public Parking Density',\n",
       "  'Public_Parking_Spots': 18,\n",
       "  'area': 'San Francisco',\n",
       "  'datetime': '2017-04-08 11:58',\n",
       "  'geotag': (37.780382, -122.420086),\n",
       "  'has_image': True,\n",
       "  'has_map': True,\n",
       "  'id': '6055759137',\n",
       "  'name': '1 Bedroom, Spacious, Bright. Showing 12pm Sunday, call for viewing.',\n",
       "  'price': '$2800',\n",
       "  'url': 'http://sfbay.craigslist.org/sfc/apa/6055759137.html',\n",
       "  'where': 'San Francisco'},\n",
       " {'BP_close': True,\n",
       "  'BP_distance': 1.9277521532165764,\n",
       "  'BP_location': 'location 2',\n",
       "  'Private_Parking_Density': 'High Private Parking Density',\n",
       "  'Private_Parking_Spots': 115,\n",
       "  'Public_Parking_Density': 'Low Public Parking Density',\n",
       "  'Public_Parking_Spots': 18,\n",
       "  'area': 'SOMA / south beach',\n",
       "  'datetime': '2017-04-08 11:43',\n",
       "  'geotag': (37.783911, -122.389463),\n",
       "  'has_image': True,\n",
       "  'has_map': True,\n",
       "  'id': '6079869481',\n",
       "  'name': '$1650 / 1br - Private Room (SOMA / south beach)',\n",
       "  'price': '$1650',\n",
       "  'url': 'http://sfbay.craigslist.org/sfc/apa/6079869481.html',\n",
       "  'where': 'SOMA / south beach'},\n",
       " {'BP_close': True,\n",
       "  'BP_distance': 0.8371889954220105,\n",
       "  'BP_location': 'location 2',\n",
       "  'Private_Parking_Density': 'High Private Parking Density',\n",
       "  'Private_Parking_Spots': 115,\n",
       "  'Public_Parking_Density': 'Low Public Parking Density',\n",
       "  'Public_Parking_Spots': 18,\n",
       "  'area': 'SOMA / south beach',\n",
       "  'datetime': '2017-04-08 11:43',\n",
       "  'geotag': (37.7784, -122.414342),\n",
       "  'has_image': True,\n",
       "  'has_map': True,\n",
       "  'id': '6079867711',\n",
       "  'name': 'New and Stunning One Bedroom In Prime Location! Book Your Tour Today!',\n",
       "  'price': '$2890',\n",
       "  'url': 'http://sfbay.craigslist.org/sfc/apa/6079867711.html',\n",
       "  'where': 'SOMA / south beach'},\n",
       " {'BP_close': True,\n",
       "  'BP_distance': 0.9731297854010016,\n",
       "  'BP_location': 'location 2',\n",
       "  'Private_Parking_Density': 'High Private Parking Density',\n",
       "  'Private_Parking_Spots': 115,\n",
       "  'Public_Parking_Density': 'Low Public Parking Density',\n",
       "  'Public_Parking_Spots': 18,\n",
       "  'area': 'SOMA / south beach',\n",
       "  'datetime': '2017-04-08 11:36',\n",
       "  'geotag': (37.782024, -122.40116),\n",
       "  'has_image': True,\n",
       "  'has_map': True,\n",
       "  'id': '6079870766',\n",
       "  'name': '1 Bed + Office/Den, 1 Bath - Luxury SOMA Condo w 150 Sq Ft Patio + Pkg',\n",
       "  'price': '$3600',\n",
       "  'url': 'http://sfbay.craigslist.org/sfc/apa/6079870766.html',\n",
       "  'where': 'SOMA / south beach'},\n",
       " {'BP_close': True,\n",
       "  'BP_distance': 0.7572289303014857,\n",
       "  'BP_location': 'location 2',\n",
       "  'Private_Parking_Density': 'High Private Parking Density',\n",
       "  'Private_Parking_Spots': 115,\n",
       "  'Public_Parking_Density': 'Low Public Parking Density',\n",
       "  'Public_Parking_Spots': 18,\n",
       "  'area': 'downtown / civic / van ness',\n",
       "  'datetime': '2017-04-08 11:35',\n",
       "  'geotag': (37.786424, -122.419846),\n",
       "  'has_image': True,\n",
       "  'has_map': True,\n",
       "  'id': '6079841271',\n",
       "  'name': '$0 Security Deposit and ONE MONTH FREE RENT!! POLK AND POST STREETS',\n",
       "  'price': '$2695',\n",
       "  'url': 'http://sfbay.craigslist.org/sfc/apa/6079841271.html',\n",
       "  'where': 'downtown / civic / van ness'},\n",
       " {'BP_close': True,\n",
       "  'BP_distance': 0.8371889954220105,\n",
       "  'BP_location': 'location 2',\n",
       "  'Private_Parking_Density': 'High Private Parking Density',\n",
       "  'Private_Parking_Spots': 115,\n",
       "  'Public_Parking_Density': 'Low Public Parking Density',\n",
       "  'Public_Parking_Spots': 18,\n",
       "  'area': 'SOMA / south beach',\n",
       "  'datetime': '2017-04-08 11:35',\n",
       "  'geotag': (37.7784, -122.414342),\n",
       "  'has_image': True,\n",
       "  'has_map': True,\n",
       "  'id': '6079857749',\n",
       "  'name': 'Luxury 2 Bedroom w/ City Views, Waived App Fees, $500 Deposit Special!',\n",
       "  'price': '$3610',\n",
       "  'url': 'http://sfbay.craigslist.org/sfc/apa/6079857749.html',\n",
       "  'where': 'SOMA / south beach'},\n",
       " {'BP_close': True,\n",
       "  'BP_distance': 0.8371889954220105,\n",
       "  'BP_location': 'location 2',\n",
       "  'Private_Parking_Density': 'High Private Parking Density',\n",
       "  'Private_Parking_Spots': 115,\n",
       "  'Public_Parking_Density': 'Low Public Parking Density',\n",
       "  'Public_Parking_Spots': 18,\n",
       "  'area': 'SOMA / south beach',\n",
       "  'datetime': '2017-04-08 11:33',\n",
       "  'geotag': (37.7784, -122.414342),\n",
       "  'has_image': True,\n",
       "  'has_map': True,\n",
       "  'id': '6079854949',\n",
       "  'name': 'Luxury Studios Surrounded By A Beautiful New Park at 33 8th Street!',\n",
       "  'price': '$2550',\n",
       "  'url': 'http://sfbay.craigslist.org/sfc/apa/6079854949.html',\n",
       "  'where': 'SOMA / south beach'}]"
      ]
     },
     "execution_count": 7,
     "metadata": {},
     "output_type": "execute_result"
    }
   ],
   "source": [
    "scrape_craigslist(max_rent = max_rent, min_rent = min_rent)"
   ]
  },
  {
   "cell_type": "code",
   "execution_count": null,
   "metadata": {
    "collapsed": true
   },
   "outputs": [],
   "source": []
  }
 ],
 "metadata": {
  "kernelspec": {
   "display_name": "Python 3",
   "language": "python",
   "name": "python3"
  },
  "language_info": {
   "codemirror_mode": {
    "name": "ipython",
    "version": 3
   },
   "file_extension": ".py",
   "mimetype": "text/x-python",
   "name": "python",
   "nbconvert_exporter": "python",
   "pygments_lexer": "ipython3",
   "version": "3.5.1"
  }
 },
 "nbformat": 4,
 "nbformat_minor": 0
}
