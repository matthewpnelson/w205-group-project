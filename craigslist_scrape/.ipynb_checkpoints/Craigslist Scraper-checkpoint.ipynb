{
 "cells": [
  {
   "cell_type": "markdown",
   "metadata": {},
   "source": [
    "# Craigslist Scraping Operationalization"
   ]
  },
  {
   "cell_type": "markdown",
   "metadata": {},
   "source": [
    "## Raw Data Examples"
   ]
  },
  {
   "cell_type": "markdown",
   "metadata": {},
   "source": [
    "SQL Query Results by Foreign Key 'Zip Code' for: \n",
    "\n",
    "1. Count of Businesses in Same Zip Code\n",
    "2. Count of Eviction Notices in same Zip Code ignore\n",
    "3. Count of Different Types of Schools in same Zip Code\n",
    "4. Avg Cost of Home Prices\n"
   ]
  },
  {
   "cell_type": "code",
   "execution_count": 1,
   "metadata": {
    "collapsed": true
   },
   "outputs": [],
   "source": [
    "zip_query = {'businesses': {'94102': 1, '11111': 5, '94104': 10, '94105': 10 }, \n",
    "             'evictions': {'94102': 7, '11111': 4, '94104': 10, '94105': 9 },\n",
    "             'schools_k9': {'94102': 10, '11111': 5, '94104': 2, '94105': 8 },\n",
    "             'schools_hs': {'94102': 9, '11111': 6, '94104': 6, '94105': 10 },\n",
    "             'home_prices': {'94102': 8, '11111': 4, '94104': 1, '94105': 4 }}"
   ]
  },
  {
   "cell_type": "markdown",
   "metadata": {},
   "source": [
    "Raw Hive Table for each of: \n",
    "\n",
    "1. Bicycle Parking Locations\n",
    "2. Bicycle Share Locations\n",
    "3. Parking Lots / Spaces\n",
    "4. SFPD Incidents 2016\n",
    "5. Trees\n",
    "\n",
    "with GeoTag Foreign Key. "
   ]
  },
  {
   "cell_type": "code",
   "execution_count": 2,
   "metadata": {
    "collapsed": false
   },
   "outputs": [],
   "source": [
    "bike_parking = {'location 1': (37.7606289177, -122.410647009), \n",
    "                'location 2': (37.7855355791102, -122.411302813025),\n",
    "                'location 3': (37.7759676911831, -122.441396661871),\n",
    "                'location 4': (37.7518243814, -122.426627114),\n",
    "                'location 5': (37.75182438, -122.4266271)}\n",
    "\n",
    "bike_share =   {'location 1': (37.7606289177, -122.410647009), \n",
    "                'location 2': (37.7855355791102, -122.411302813025),\n",
    "                'location 3': (37.7759676911831, -122.441396661871),\n",
    "                'location 4': (37.7518243814, -122.426627114),\n",
    "                'location 5': (37.75182438, -122.4266271)}\n",
    "\n",
    "parking =      {'location 1': (37.7606289177, -122.410647009), \n",
    "                'location 2': (37.7855355791102, -122.411302813025),\n",
    "                'location 3': (37.7759676911831, -122.441396661871),\n",
    "                'location 4': (37.7518243814, -122.426627114),\n",
    "                'location 5': (37.75182438, -122.4266271)}\n",
    "\n",
    "SFPD =      {'location 1': (37.7606289177, -122.410647009), \n",
    "                'location 2': (37.7855355791102, -122.411302813025),\n",
    "                'location 3': (37.7759676911831, -122.441396661871),\n",
    "                'location 4': (37.7518243814, -122.426627114),\n",
    "                'location 5': (37.75182438, -122.4266271)}\n",
    "\n",
    "trees =      {'location 1': (37.7606289177, -122.410647009), \n",
    "                'location 2': (37.7855355791102, -122.411302813025),\n",
    "                'location 3': (37.7759676911831, -122.441396661871),\n",
    "                'location 4': (37.7518243814, -122.426627114),\n",
    "                'location 5': (37.75182438, -122.4266271)}"
   ]
  },
  {
   "cell_type": "markdown",
   "metadata": {},
   "source": [
    "Neighbourhood Bounding Boxes for Neighbourhood Lookups (delete?)"
   ]
  },
  {
   "cell_type": "code",
   "execution_count": 3,
   "metadata": {
    "collapsed": false
   },
   "outputs": [],
   "source": [
    "neighbourhood_boxes = {\n",
    "    \"adams_point\": [\n",
    "        [37.80789, -122.25000],\n",
    "        [37.81589,\t-122.26081],\n",
    "    ],\n",
    "    \"piedmont\": [\n",
    "        [37.82240, -122.24768],\n",
    "        [37.83237, -122.25386],\n",
    "    ],\n",
    "     \"example1\": [\n",
    "        [37.76, -122.3],\n",
    "        [38.0, -122.4],\n",
    "    ],\n",
    "     \"example2\": [\n",
    "        [37.76, -122.4],\n",
    "        [38.0, -122.5],\n",
    "    ]\n",
    "\n",
    "}"
   ]
  },
  {
   "cell_type": "markdown",
   "metadata": {},
   "source": [
    "List of Zip Codes (delete?)"
   ]
  },
  {
   "cell_type": "code",
   "execution_count": 4,
   "metadata": {
    "collapsed": true
   },
   "outputs": [],
   "source": [
    "zipcodes = [94102,94103,94104,94105,94107,94108,94109,94110,94111,94112,94114,94115,94116,94117,94118,94119,94120,\n",
    "            94121,94122,94123,94124,94125,94126,94127,94128,94129,94130,94131,94132,94133,94134,94137,94139,94140,\n",
    "            94141,94142,94143,94144,94145,94146,94147,94151,94158,94159,94160,94161,94163,94164,94172,94177,94188]"
   ]
  },
  {
   "cell_type": "markdown",
   "metadata": {},
   "source": [
    "### Sample Inputs from User"
   ]
  },
  {
   "cell_type": "code",
   "execution_count": 5,
   "metadata": {
    "collapsed": true
   },
   "outputs": [],
   "source": [
    "max_rent = 4000\n",
    "min_rent = 1000\n",
    "category = 'apa'\n",
    "min_rank_businesses = None\n",
    "min_rank_evictions = 8\n",
    "min_rank_schools_k9 = 8\n",
    "min_rank_schools_hs = None\n",
    "min_rank_home_prices = 5\n",
    "distance_to_bike_parking = \"Short\"      # Short, Medium, Long\n",
    "distance_to_bike_share = \"Short\"        # Short, Medium, Long\n",
    "density_of_parking_spots_500m = \"Low\"   # Low, Medium, High Density within 500m\n",
    "density_of_SFPD_Incidents = \"Low\"       # Low, Medium, High Density in 2016\n",
    "density_of_trees_100m = \"High\"          # Low, Medium, High Density within 500m"
   ]
  },
  {
   "cell_type": "markdown",
   "metadata": {},
   "source": [
    "### Sample Raw Outputs from Craigslist Scraper"
   ]
  },
  {
   "cell_type": "code",
   "execution_count": 6,
   "metadata": {
    "collapsed": true
   },
   "outputs": [],
   "source": [
    "output = {'id': '6060895324', 'has_map': True, 'price': '$1600', 'url': 'http://sfbay.craigslist.org/sfc/apa/6060895324.html',\n",
    "          'name': 'Furnished Room', 'has_image': True, 'datetime': '2017-03-26 09:33', 'where': 'nob hill', 'geotag': (37.790788, -122.419036)}\n"
   ]
  },
  {
   "cell_type": "markdown",
   "metadata": {},
   "source": [
    "# Scraper Class w/ Filters"
   ]
  },
  {
   "cell_type": "code",
   "execution_count": 7,
   "metadata": {
    "collapsed": false
   },
   "outputs": [],
   "source": [
    "def scrape_craigslist(max_rent= None, min_rent = None, cat = category):\n",
    "\n",
    "    from craigslist import CraigslistHousing\n",
    "    import filtering_functions\n",
    "    import zip_lookup\n",
    "    import neighbourhood_lookup\n",
    "\n",
    "    cl = CraigslistHousing(site='sfbay', area='sfc', category= cat,\n",
    "                             filters={'max_price': max_rent, 'min_price': min_rent})\n",
    "\n",
    "    results = cl.get_results(sort_by='newest', geotagged=True, limit=100) #do we need to set a reasonable limit?\n",
    "    tentative_rental = []\n",
    "    valid_rentals = []\n",
    "    for result in results:\n",
    "        \n",
    "        ################################################################################################\n",
    "        ### INITIALIZE RESULT\n",
    "        \n",
    "        # assign geotag if it is provided in the rental ad\n",
    "        if result['geotag'] is not None:\n",
    "            geotag = result['geotag']\n",
    "        else:\n",
    "            continue #skip for now because there is no geotag    \n",
    "        \n",
    "        zipcode = zip_lookup.zip_lookup_by_geotag(geotag)\n",
    "        tentative_rental.append(result)\n",
    "        \n",
    "        ### Get Approximate Neighbourhood by Geotag\n",
    "        result[\"area\"] = neighbourhood_lookup.neighbourhood_lookup(geotag)\n",
    "        \n",
    "        \n",
    "        ################################################################################################\n",
    "        ### APPLY FILTERS\n",
    "        \n",
    "        \n",
    "        #-----------------------------------------------------------------------------------------------\n",
    "        ## ZIPCODE BASED FILTERS\n",
    "        #-----------------------------------------------------------------------------------------------\n",
    "        \n",
    "        # # OF BUSINESSES\n",
    "        if zipcode not in filtering_functions.check_businesses(min_rank_businesses, zip_query):\n",
    "            continue\n",
    "        \n",
    "        # NEARBY SCHOOLS\n",
    "        if zipcode not in filtering_functions.check_evictions(min_rank_evictions, zip_query):\n",
    "            continue\n",
    "        \n",
    "        #-----------------------------------------------------------------------------------------------\n",
    "        ## DISTANCE BASED FILTERS\n",
    "        #-----------------------------------------------------------------------------------------------\n",
    "        \n",
    "        \n",
    "        \n",
    "        \n",
    "        \n",
    "        \n",
    "        \n",
    "\n",
    "        ################################################################################################\n",
    "        # Made it to the end of the filters intact? Rental is Valid for this User's Query!\n",
    "        valid_rentals.append(result)\n",
    "        tentative_rental = [] # reset the tentative rental, continue loop\n",
    "        \n",
    "        ################################################################################################\n",
    "        ### DISPLAY VALID RESULTS\n",
    "        print(result[\"area\"], result[\"price\"], result[\"name\"], result[\"url\"])\n",
    "        \n",
    "        \n",
    "    return valid_rentals\n"
   ]
  },
  {
   "cell_type": "code",
   "execution_count": 8,
   "metadata": {
    "collapsed": false
   },
   "outputs": [
    {
     "name": "stdout",
     "output_type": "stream",
     "text": [
      "South Beach $3195 Stop in Today and Lease this Spacious Studio! http://sfbay.craigslist.org/sfc/apa/6070937189.html\n",
      "South Beach $2500 Luxury Rincon Hill Studio (399 Fremont), short or long-term lease http://sfbay.craigslist.org/sfc/apa/6047926965.html\n"
     ]
    },
    {
     "data": {
      "text/plain": [
       "[{'area': 'South Beach',\n",
       "  'datetime': '2017-04-02 09:49',\n",
       "  'geotag': (37.78723, -122.391465),\n",
       "  'has_image': True,\n",
       "  'has_map': True,\n",
       "  'id': '6070937189',\n",
       "  'name': 'Stop in Today and Lease this Spacious Studio!',\n",
       "  'price': '$3195',\n",
       "  'url': 'http://sfbay.craigslist.org/sfc/apa/6070937189.html',\n",
       "  'where': 'SOMA / south beach'},\n",
       " {'area': 'South Beach',\n",
       "  'datetime': '2017-04-02 09:44',\n",
       "  'geotag': (37.786765, -122.392053),\n",
       "  'has_image': True,\n",
       "  'has_map': True,\n",
       "  'id': '6047926965',\n",
       "  'name': 'Luxury Rincon Hill Studio (399 Fremont), short or long-term lease',\n",
       "  'price': '$2500',\n",
       "  'url': 'http://sfbay.craigslist.org/sfc/apa/6047926965.html',\n",
       "  'where': 'SOMA / south beach'}]"
      ]
     },
     "execution_count": 8,
     "metadata": {},
     "output_type": "execute_result"
    }
   ],
   "source": [
    "scrape_craigslist(max_rent = max_rent, min_rent = min_rent)"
   ]
  },
  {
   "cell_type": "code",
   "execution_count": null,
   "metadata": {
    "collapsed": true
   },
   "outputs": [],
   "source": []
  }
 ],
 "metadata": {
  "kernelspec": {
   "display_name": "Python 3",
   "language": "python",
   "name": "python3"
  },
  "language_info": {
   "codemirror_mode": {
    "name": "ipython",
    "version": 3
   },
   "file_extension": ".py",
   "mimetype": "text/x-python",
   "name": "python",
   "nbconvert_exporter": "python",
   "pygments_lexer": "ipython3",
   "version": "3.5.1"
  }
 },
 "nbformat": 4,
 "nbformat_minor": 0
}
